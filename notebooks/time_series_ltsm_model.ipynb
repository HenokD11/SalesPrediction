{
 "cells": [
  {
   "cell_type": "code",
   "execution_count": 2,
   "metadata": {},
   "outputs": [],
   "source": [
    "# importing modules\n",
    "import dvc.api\n",
    "import os\n",
    "import sys\n",
    "import pandas as pd\n",
    "import numpy as np\n",
    "import matplotlib.pyplot as plt\n",
    "from matplotlib.gridspec import GridSpec\n",
    "from matplotlib import ticker\n",
    "from statsmodels.tsa.stattools import adfuller, acf, pacf\n",
    "import tensorflow as tf\n",
    "from tensorflow import keras\n",
    "from tensorflow.keras.models import Sequential\n",
    "from tensorflow.keras.layers import Dense, RepeatVector, TimeDistributed\n",
    "from tensorflow.keras.layers import LSTM\n",
    "from tensorflow.keras.layers import Dropout\n",
    "import mlflow\n",
    "from IPython.display import Markdown, display, Image\n",
    "import warnings\n",
    "warnings.filterwarnings('ignore')\n",
    "sys.path.append(os.path.abspath(os.path.join('..')))"
   ]
  },
  {
   "cell_type": "code",
   "execution_count": 3,
   "metadata": {},
   "outputs": [],
   "source": [
    "# importing scripts\n",
    "import sys\n",
    "sys.path.insert(0,'../scripts/')\n",
    "from data_manipulation import DataManipulator\n",
    "from plot import exploration\n",
    "from lstm_model import ltsm_time"
   ]
  },
  {
   "cell_type": "markdown",
   "metadata": {},
   "source": [
    "### Importing Unlabeled data from DVC"
   ]
  },
  {
   "cell_type": "code",
   "execution_count": null,
   "metadata": {},
   "outputs": [],
   "source": [
    "#Importing the collected Data\n",
    "path = 'data/train_store.csv'\n",
    "repo = 'https://github.com/HenokD11/SalesPrediction'\n",
    "rev = 'v3-scaled'\n",
    "data_url = dvc.api.get_url(path=path, repo=repo, rev=rev)\n",
    "scaled = pd.read_csv(data_url)"
   ]
  },
  {
   "cell_type": "code",
   "execution_count": null,
   "metadata": {},
   "outputs": [],
   "source": []
  },
  {
   "cell_type": "code",
   "execution_count": 6,
   "metadata": {},
   "outputs": [
    {
     "data": {
      "text/html": [
       "<div>\n",
       "<style scoped>\n",
       "    .dataframe tbody tr th:only-of-type {\n",
       "        vertical-align: middle;\n",
       "    }\n",
       "\n",
       "    .dataframe tbody tr th {\n",
       "        vertical-align: top;\n",
       "    }\n",
       "\n",
       "    .dataframe thead th {\n",
       "        text-align: right;\n",
       "    }\n",
       "</style>\n",
       "<table border=\"1\" class=\"dataframe\">\n",
       "  <thead>\n",
       "    <tr style=\"text-align: right;\">\n",
       "      <th></th>\n",
       "      <th>DayOfWeek</th>\n",
       "      <th>WeekDay</th>\n",
       "      <th>Year</th>\n",
       "      <th>Month</th>\n",
       "      <th>Season</th>\n",
       "      <th>Day</th>\n",
       "      <th>MonthTiming</th>\n",
       "      <th>Sales</th>\n",
       "      <th>Customers</th>\n",
       "      <th>Open</th>\n",
       "      <th>...</th>\n",
       "      <th>Assortment</th>\n",
       "      <th>CompetitionDistance</th>\n",
       "      <th>CompetitionOpenSinceMonth</th>\n",
       "      <th>CompetitionOpenSinceYear</th>\n",
       "      <th>Promo2</th>\n",
       "      <th>Promo2SinceWeek</th>\n",
       "      <th>Promo2SinceYear</th>\n",
       "      <th>PromoInterval</th>\n",
       "      <th>SalesPerCustomer</th>\n",
       "      <th>CompetitionOpenSince</th>\n",
       "    </tr>\n",
       "  </thead>\n",
       "  <tbody>\n",
       "    <tr>\n",
       "      <th>0</th>\n",
       "      <td>0.501484</td>\n",
       "      <td>0.630672</td>\n",
       "      <td>1.502077</td>\n",
       "      <td>0.346724</td>\n",
       "      <td>0.389712</td>\n",
       "      <td>1.740766</td>\n",
       "      <td>1.205894</td>\n",
       "      <td>-0.063134</td>\n",
       "      <td>-0.067027</td>\n",
       "      <td>0.452399</td>\n",
       "      <td>...</td>\n",
       "      <td>-0.940975</td>\n",
       "      <td>-0.538742</td>\n",
       "      <td>0.436247</td>\n",
       "      <td>-0.385752</td>\n",
       "      <td>-1.001128</td>\n",
       "      <td>-0.421904</td>\n",
       "      <td>-0.305054</td>\n",
       "      <td>0.045131</td>\n",
       "      <td>-0.093996</td>\n",
       "      <td>0.595717</td>\n",
       "    </tr>\n",
       "    <tr>\n",
       "      <th>1</th>\n",
       "      <td>0.000831</td>\n",
       "      <td>0.630672</td>\n",
       "      <td>1.502077</td>\n",
       "      <td>0.346724</td>\n",
       "      <td>0.389712</td>\n",
       "      <td>1.626969</td>\n",
       "      <td>1.205894</td>\n",
       "      <td>-0.136239</td>\n",
       "      <td>-0.092863</td>\n",
       "      <td>0.452399</td>\n",
       "      <td>...</td>\n",
       "      <td>-0.940975</td>\n",
       "      <td>-0.538742</td>\n",
       "      <td>0.436247</td>\n",
       "      <td>-0.385752</td>\n",
       "      <td>-1.001128</td>\n",
       "      <td>-0.421904</td>\n",
       "      <td>-0.305054</td>\n",
       "      <td>0.045131</td>\n",
       "      <td>-0.207208</td>\n",
       "      <td>0.595717</td>\n",
       "    </tr>\n",
       "    <tr>\n",
       "      <th>2</th>\n",
       "      <td>-0.499823</td>\n",
       "      <td>0.630672</td>\n",
       "      <td>1.502077</td>\n",
       "      <td>0.346724</td>\n",
       "      <td>0.389712</td>\n",
       "      <td>1.513173</td>\n",
       "      <td>1.205894</td>\n",
       "      <td>-0.207840</td>\n",
       "      <td>-0.158887</td>\n",
       "      <td>0.452399</td>\n",
       "      <td>...</td>\n",
       "      <td>-0.940975</td>\n",
       "      <td>-0.538742</td>\n",
       "      <td>0.436247</td>\n",
       "      <td>-0.385752</td>\n",
       "      <td>-1.001128</td>\n",
       "      <td>-0.421904</td>\n",
       "      <td>-0.305054</td>\n",
       "      <td>0.045131</td>\n",
       "      <td>-0.227101</td>\n",
       "      <td>0.595717</td>\n",
       "    </tr>\n",
       "    <tr>\n",
       "      <th>3</th>\n",
       "      <td>-1.000476</td>\n",
       "      <td>0.630672</td>\n",
       "      <td>1.502077</td>\n",
       "      <td>0.346724</td>\n",
       "      <td>0.389712</td>\n",
       "      <td>1.399377</td>\n",
       "      <td>1.205894</td>\n",
       "      <td>-0.138946</td>\n",
       "      <td>-0.052674</td>\n",
       "      <td>0.452399</td>\n",
       "      <td>...</td>\n",
       "      <td>-0.940975</td>\n",
       "      <td>-0.538742</td>\n",
       "      <td>0.436247</td>\n",
       "      <td>-0.385752</td>\n",
       "      <td>-1.001128</td>\n",
       "      <td>-0.421904</td>\n",
       "      <td>-0.305054</td>\n",
       "      <td>0.045131</td>\n",
       "      <td>-0.303632</td>\n",
       "      <td>0.595717</td>\n",
       "    </tr>\n",
       "    <tr>\n",
       "      <th>4</th>\n",
       "      <td>-1.501129</td>\n",
       "      <td>0.630672</td>\n",
       "      <td>1.502077</td>\n",
       "      <td>0.346724</td>\n",
       "      <td>0.389712</td>\n",
       "      <td>1.285581</td>\n",
       "      <td>1.205894</td>\n",
       "      <td>0.189274</td>\n",
       "      <td>0.096598</td>\n",
       "      <td>0.452399</td>\n",
       "      <td>...</td>\n",
       "      <td>-0.940975</td>\n",
       "      <td>-0.538742</td>\n",
       "      <td>0.436247</td>\n",
       "      <td>-0.385752</td>\n",
       "      <td>-1.001128</td>\n",
       "      <td>-0.421904</td>\n",
       "      <td>-0.305054</td>\n",
       "      <td>0.045131</td>\n",
       "      <td>0.097227</td>\n",
       "      <td>0.595717</td>\n",
       "    </tr>\n",
       "  </tbody>\n",
       "</table>\n",
       "<p>5 rows × 26 columns</p>\n",
       "</div>"
      ],
      "text/plain": [
       "   DayOfWeek   WeekDay      Year     Month    Season       Day  MonthTiming  \\\n",
       "0   0.501484  0.630672  1.502077  0.346724  0.389712  1.740766     1.205894   \n",
       "1   0.000831  0.630672  1.502077  0.346724  0.389712  1.626969     1.205894   \n",
       "2  -0.499823  0.630672  1.502077  0.346724  0.389712  1.513173     1.205894   \n",
       "3  -1.000476  0.630672  1.502077  0.346724  0.389712  1.399377     1.205894   \n",
       "4  -1.501129  0.630672  1.502077  0.346724  0.389712  1.285581     1.205894   \n",
       "\n",
       "      Sales  Customers      Open  ...  Assortment  CompetitionDistance  \\\n",
       "0 -0.063134  -0.067027  0.452399  ...   -0.940975            -0.538742   \n",
       "1 -0.136239  -0.092863  0.452399  ...   -0.940975            -0.538742   \n",
       "2 -0.207840  -0.158887  0.452399  ...   -0.940975            -0.538742   \n",
       "3 -0.138946  -0.052674  0.452399  ...   -0.940975            -0.538742   \n",
       "4  0.189274   0.096598  0.452399  ...   -0.940975            -0.538742   \n",
       "\n",
       "   CompetitionOpenSinceMonth  CompetitionOpenSinceYear    Promo2  \\\n",
       "0                   0.436247                 -0.385752 -1.001128   \n",
       "1                   0.436247                 -0.385752 -1.001128   \n",
       "2                   0.436247                 -0.385752 -1.001128   \n",
       "3                   0.436247                 -0.385752 -1.001128   \n",
       "4                   0.436247                 -0.385752 -1.001128   \n",
       "\n",
       "   Promo2SinceWeek  Promo2SinceYear  PromoInterval  SalesPerCustomer  \\\n",
       "0        -0.421904        -0.305054       0.045131         -0.093996   \n",
       "1        -0.421904        -0.305054       0.045131         -0.207208   \n",
       "2        -0.421904        -0.305054       0.045131         -0.227101   \n",
       "3        -0.421904        -0.305054       0.045131         -0.303632   \n",
       "4        -0.421904        -0.305054       0.045131          0.097227   \n",
       "\n",
       "   CompetitionOpenSince  \n",
       "0              0.595717  \n",
       "1              0.595717  \n",
       "2              0.595717  \n",
       "3              0.595717  \n",
       "4              0.595717  \n",
       "\n",
       "[5 rows x 26 columns]"
      ]
     },
     "execution_count": 6,
     "metadata": {},
     "output_type": "execute_result"
    }
   ],
   "source": [
    "scaled.head()"
   ]
  },
  {
   "cell_type": "code",
   "execution_count": 7,
   "metadata": {},
   "outputs": [],
   "source": [
    "train = pd.read_csv('../data/train.csv')\n",
    "train = train[['Date','Sales']]\n",
    "#train = train.groupby('Date').agg({'Sales':'mean'})"
   ]
  },
  {
   "cell_type": "code",
   "execution_count": 8,
   "metadata": {},
   "outputs": [
    {
     "data": {
      "text/html": [
       "<div>\n",
       "<style scoped>\n",
       "    .dataframe tbody tr th:only-of-type {\n",
       "        vertical-align: middle;\n",
       "    }\n",
       "\n",
       "    .dataframe tbody tr th {\n",
       "        vertical-align: top;\n",
       "    }\n",
       "\n",
       "    .dataframe thead th {\n",
       "        text-align: right;\n",
       "    }\n",
       "</style>\n",
       "<table border=\"1\" class=\"dataframe\">\n",
       "  <thead>\n",
       "    <tr style=\"text-align: right;\">\n",
       "      <th></th>\n",
       "      <th>Date</th>\n",
       "      <th>Sales</th>\n",
       "    </tr>\n",
       "  </thead>\n",
       "  <tbody>\n",
       "    <tr>\n",
       "      <th>0</th>\n",
       "      <td>2015-07-31</td>\n",
       "      <td>5263</td>\n",
       "    </tr>\n",
       "    <tr>\n",
       "      <th>1</th>\n",
       "      <td>2015-07-31</td>\n",
       "      <td>6064</td>\n",
       "    </tr>\n",
       "    <tr>\n",
       "      <th>2</th>\n",
       "      <td>2015-07-31</td>\n",
       "      <td>8314</td>\n",
       "    </tr>\n",
       "    <tr>\n",
       "      <th>3</th>\n",
       "      <td>2015-07-31</td>\n",
       "      <td>13995</td>\n",
       "    </tr>\n",
       "    <tr>\n",
       "      <th>4</th>\n",
       "      <td>2015-07-31</td>\n",
       "      <td>4822</td>\n",
       "    </tr>\n",
       "  </tbody>\n",
       "</table>\n",
       "</div>"
      ],
      "text/plain": [
       "         Date  Sales\n",
       "0  2015-07-31   5263\n",
       "1  2015-07-31   6064\n",
       "2  2015-07-31   8314\n",
       "3  2015-07-31  13995\n",
       "4  2015-07-31   4822"
      ]
     },
     "execution_count": 8,
     "metadata": {},
     "output_type": "execute_result"
    }
   ],
   "source": [
    "train.head()"
   ]
  },
  {
   "cell_type": "code",
   "execution_count": 9,
   "metadata": {},
   "outputs": [
    {
     "data": {
      "text/html": [
       "<div>\n",
       "<style scoped>\n",
       "    .dataframe tbody tr th:only-of-type {\n",
       "        vertical-align: middle;\n",
       "    }\n",
       "\n",
       "    .dataframe tbody tr th {\n",
       "        vertical-align: top;\n",
       "    }\n",
       "\n",
       "    .dataframe thead th {\n",
       "        text-align: right;\n",
       "    }\n",
       "</style>\n",
       "<table border=\"1\" class=\"dataframe\">\n",
       "  <thead>\n",
       "    <tr style=\"text-align: right;\">\n",
       "      <th></th>\n",
       "      <th>Date</th>\n",
       "      <th>Sales</th>\n",
       "    </tr>\n",
       "  </thead>\n",
       "  <tbody>\n",
       "    <tr>\n",
       "      <th>0</th>\n",
       "      <td>2015-07-31</td>\n",
       "      <td>5263</td>\n",
       "    </tr>\n",
       "    <tr>\n",
       "      <th>1</th>\n",
       "      <td>2015-07-31</td>\n",
       "      <td>6064</td>\n",
       "    </tr>\n",
       "    <tr>\n",
       "      <th>2</th>\n",
       "      <td>2015-07-31</td>\n",
       "      <td>8314</td>\n",
       "    </tr>\n",
       "    <tr>\n",
       "      <th>3</th>\n",
       "      <td>2015-07-31</td>\n",
       "      <td>13995</td>\n",
       "    </tr>\n",
       "    <tr>\n",
       "      <th>4</th>\n",
       "      <td>2015-07-31</td>\n",
       "      <td>4822</td>\n",
       "    </tr>\n",
       "    <tr>\n",
       "      <th>...</th>\n",
       "      <td>...</td>\n",
       "      <td>...</td>\n",
       "    </tr>\n",
       "    <tr>\n",
       "      <th>1017204</th>\n",
       "      <td>2013-01-01</td>\n",
       "      <td>0</td>\n",
       "    </tr>\n",
       "    <tr>\n",
       "      <th>1017205</th>\n",
       "      <td>2013-01-01</td>\n",
       "      <td>0</td>\n",
       "    </tr>\n",
       "    <tr>\n",
       "      <th>1017206</th>\n",
       "      <td>2013-01-01</td>\n",
       "      <td>0</td>\n",
       "    </tr>\n",
       "    <tr>\n",
       "      <th>1017207</th>\n",
       "      <td>2013-01-01</td>\n",
       "      <td>0</td>\n",
       "    </tr>\n",
       "    <tr>\n",
       "      <th>1017208</th>\n",
       "      <td>2013-01-01</td>\n",
       "      <td>0</td>\n",
       "    </tr>\n",
       "  </tbody>\n",
       "</table>\n",
       "<p>1017209 rows × 2 columns</p>\n",
       "</div>"
      ],
      "text/plain": [
       "               Date  Sales\n",
       "0        2015-07-31   5263\n",
       "1        2015-07-31   6064\n",
       "2        2015-07-31   8314\n",
       "3        2015-07-31  13995\n",
       "4        2015-07-31   4822\n",
       "...             ...    ...\n",
       "1017204  2013-01-01      0\n",
       "1017205  2013-01-01      0\n",
       "1017206  2013-01-01      0\n",
       "1017207  2013-01-01      0\n",
       "1017208  2013-01-01      0\n",
       "\n",
       "[1017209 rows x 2 columns]"
      ]
     },
     "execution_count": 9,
     "metadata": {},
     "output_type": "execute_result"
    }
   ],
   "source": [
    "df = train\n",
    "df"
   ]
  },
  {
   "cell_type": "code",
   "execution_count": 10,
   "metadata": {},
   "outputs": [
    {
     "data": {
      "text/html": [
       "<div>\n",
       "<style scoped>\n",
       "    .dataframe tbody tr th:only-of-type {\n",
       "        vertical-align: middle;\n",
       "    }\n",
       "\n",
       "    .dataframe tbody tr th {\n",
       "        vertical-align: top;\n",
       "    }\n",
       "\n",
       "    .dataframe thead th {\n",
       "        text-align: right;\n",
       "    }\n",
       "</style>\n",
       "<table border=\"1\" class=\"dataframe\">\n",
       "  <thead>\n",
       "    <tr style=\"text-align: right;\">\n",
       "      <th></th>\n",
       "      <th>Date</th>\n",
       "      <th>Sales</th>\n",
       "    </tr>\n",
       "  </thead>\n",
       "  <tbody>\n",
       "    <tr>\n",
       "      <th>1017208</th>\n",
       "      <td>2013-01-01</td>\n",
       "      <td>0</td>\n",
       "    </tr>\n",
       "    <tr>\n",
       "      <th>1016473</th>\n",
       "      <td>2013-01-01</td>\n",
       "      <td>0</td>\n",
       "    </tr>\n",
       "    <tr>\n",
       "      <th>1016472</th>\n",
       "      <td>2013-01-01</td>\n",
       "      <td>0</td>\n",
       "    </tr>\n",
       "    <tr>\n",
       "      <th>1016471</th>\n",
       "      <td>2013-01-01</td>\n",
       "      <td>0</td>\n",
       "    </tr>\n",
       "    <tr>\n",
       "      <th>1016470</th>\n",
       "      <td>2013-01-01</td>\n",
       "      <td>0</td>\n",
       "    </tr>\n",
       "  </tbody>\n",
       "</table>\n",
       "</div>"
      ],
      "text/plain": [
       "               Date  Sales\n",
       "1017208  2013-01-01      0\n",
       "1016473  2013-01-01      0\n",
       "1016472  2013-01-01      0\n",
       "1016471  2013-01-01      0\n",
       "1016470  2013-01-01      0"
      ]
     },
     "execution_count": 10,
     "metadata": {},
     "output_type": "execute_result"
    }
   ],
   "source": [
    "df.sort_values(by='Date', ascending = True, inplace=True)\n",
    "df.head()"
   ]
  },
  {
   "cell_type": "code",
   "execution_count": 11,
   "metadata": {},
   "outputs": [
    {
     "data": {
      "text/html": [
       "<div>\n",
       "<style scoped>\n",
       "    .dataframe tbody tr th:only-of-type {\n",
       "        vertical-align: middle;\n",
       "    }\n",
       "\n",
       "    .dataframe tbody tr th {\n",
       "        vertical-align: top;\n",
       "    }\n",
       "\n",
       "    .dataframe thead th {\n",
       "        text-align: right;\n",
       "    }\n",
       "</style>\n",
       "<table border=\"1\" class=\"dataframe\">\n",
       "  <thead>\n",
       "    <tr style=\"text-align: right;\">\n",
       "      <th></th>\n",
       "      <th>Date</th>\n",
       "      <th>Sales</th>\n",
       "    </tr>\n",
       "  </thead>\n",
       "  <tbody>\n",
       "    <tr>\n",
       "      <th>1017208</th>\n",
       "      <td>2013-01-01</td>\n",
       "      <td>0</td>\n",
       "    </tr>\n",
       "    <tr>\n",
       "      <th>1016473</th>\n",
       "      <td>2013-01-01</td>\n",
       "      <td>0</td>\n",
       "    </tr>\n",
       "    <tr>\n",
       "      <th>1016472</th>\n",
       "      <td>2013-01-01</td>\n",
       "      <td>0</td>\n",
       "    </tr>\n",
       "    <tr>\n",
       "      <th>1016471</th>\n",
       "      <td>2013-01-01</td>\n",
       "      <td>0</td>\n",
       "    </tr>\n",
       "    <tr>\n",
       "      <th>1016470</th>\n",
       "      <td>2013-01-01</td>\n",
       "      <td>0</td>\n",
       "    </tr>\n",
       "  </tbody>\n",
       "</table>\n",
       "</div>"
      ],
      "text/plain": [
       "               Date  Sales\n",
       "1017208  2013-01-01      0\n",
       "1016473  2013-01-01      0\n",
       "1016472  2013-01-01      0\n",
       "1016471  2013-01-01      0\n",
       "1016470  2013-01-01      0"
      ]
     },
     "execution_count": 11,
     "metadata": {},
     "output_type": "execute_result"
    }
   ],
   "source": [
    "df2 = df[['Date', 'Sales']]\n",
    "df2.head()"
   ]
  },
  {
   "cell_type": "code",
   "execution_count": 12,
   "metadata": {},
   "outputs": [],
   "source": [
    "df2.Date = pd.to_datetime(df2.Date)"
   ]
  },
  {
   "cell_type": "code",
   "execution_count": 13,
   "metadata": {},
   "outputs": [],
   "source": [
    "df2 = df2[df2['Sales'] > 0.0]"
   ]
  },
  {
   "cell_type": "code",
   "execution_count": 14,
   "metadata": {},
   "outputs": [
    {
     "data": {
      "image/png": "[encoded data removed]",
      "text/plain": [
       "<Figure size 2000x1500 with 1 Axes>"
      ]
     },
     "metadata": {},
     "output_type": "display_data"
    }
   ],
   "source": [
    "import matplotlib.pyplot as plt\n",
    "df2.plot(x='Date', figsize=(20, 15))\n",
    "plt.ylabel(\"Sales\")\n",
    "plt.title(\"Sales\", fontsize=16)\n",
    "plt.legend(fontsize=14);\n",
    "plt.show()"
   ]
  },
  {
   "cell_type": "code",
   "execution_count": 15,
   "metadata": {},
   "outputs": [
    {
     "name": "stdout",
     "output_type": "stream",
     "text": [
      "(591036, 2) (253302, 2)\n"
     ]
    }
   ],
   "source": [
    "train_size = int(len(df2) * 0.70)\n",
    "test_size = len(df2) - train_size\n",
    "train, testt = df2.iloc[0:train_size], df2.iloc[train_size:len(df2)]\n",
    "print(train.shape, testt.shape)"
   ]
  },
  {
   "cell_type": "code",
   "execution_count": 16,
   "metadata": {},
   "outputs": [
    {
     "name": "stdout",
     "output_type": "stream",
     "text": [
      "(126651, 2) (126651, 2)\n"
     ]
    }
   ],
   "source": [
    "test_size = int(len(testt) * 0.50)\n",
    "val_size = len(testt) - test_size\n",
    "test, val = testt.iloc[0:test_size], testt.iloc[test_size:len(testt)]\n",
    "print(val.shape, test.shape)"
   ]
  },
  {
   "cell_type": "code",
   "execution_count": 17,
   "metadata": {},
   "outputs": [],
   "source": [
    "from sklearn.preprocessing import StandardScaler\n",
    "\n",
    "scaler = StandardScaler()\n",
    "scaler = scaler.fit(train[['Sales']])\n",
    "\n",
    "train['Sales'] = scaler.transform(train[['Sales']])\n",
    "test['Sales'] = scaler.transform(test[['Sales']])\n",
    "val['Sales'] = scaler.transform(val[['Sales']])"
   ]
  },
  {
   "cell_type": "code",
   "execution_count": 18,
   "metadata": {},
   "outputs": [
    {
     "name": "stdout",
     "output_type": "stream",
     "text": [
      "Training shape: (591006, 30, 1)\n",
      "Testing shape: (126621, 30, 1)\n",
      "Testing shape: (126621, 30, 1)\n",
      "Testing shape: (591006,)\n",
      "Testing shape: (126621,)\n",
      "Testing shape: (126621,)\n"
     ]
    }
   ],
   "source": [
    "TIME_STEPS=30\n",
    "\n",
    "def create_sequences(X, y, time_steps=TIME_STEPS):\n",
    "    Xs, ys = [], []\n",
    "    for i in range(len(X)-time_steps):\n",
    "        Xs.append(X.iloc[i:(i+time_steps)].values)\n",
    "        ys.append(y.iloc[i+time_steps])\n",
    "    \n",
    "    return np.array(Xs), np.array(ys)\n",
    "\n",
    "# X_train, y_train = create_sequences(updated_df_drop[['Close_scaled']], updated_df_drop['Close_scaled'])\n",
    "\n",
    "\n",
    "X_train, y_train = create_sequences(train[['Sales']], train['Sales'])\n",
    "X_test, y_test = create_sequences(test[['Sales']], test['Sales'])\n",
    "X_val, y_val = create_sequences(val[['Sales']], val['Sales'])\n",
    "\n",
    "print(f'Training shape: {X_train.shape}')\n",
    "print(f'Testing shape: {X_test.shape}')\n",
    "print(f'Testing shape: {X_val.shape}')\n",
    "\n",
    "print(f'Testing shape: {y_train.shape}')\n",
    "print(f'Testing shape: {y_test.shape}')\n",
    "print(f'Testing shape: {y_val.shape}')"
   ]
  },
  {
   "cell_type": "code",
   "execution_count": 19,
   "metadata": {},
   "outputs": [
    {
     "name": "stdout",
     "output_type": "stream",
     "text": [
      "Model: \"sequential\"\n",
      "_________________________________________________________________\n",
      " Layer (type)                Output Shape              Param #   \n",
      "=================================================================\n",
      " lstm (LSTM)                 (None, 128)               66560     \n",
      "                                                                 \n",
      " dropout (Dropout)           (None, 128)               0         \n",
      "                                                                 \n",
      " repeat_vector (RepeatVector  (None, 30, 128)          0         \n",
      " )                                                               \n",
      "                                                                 \n",
      " lstm_1 (LSTM)               (None, 30, 128)           131584    \n",
      "                                                                 \n",
      " dropout_1 (Dropout)         (None, 30, 128)           0         \n",
      "                                                                 \n",
      " time_distributed (TimeDistr  (None, 30, 1)            129       \n",
      " ibuted)                                                         \n",
      "                                                                 \n",
      "=================================================================\n",
      "Total params: 198,273\n",
      "Trainable params: 198,273\n",
      "Non-trainable params: 0\n",
      "_________________________________________________________________\n"
     ]
    }
   ],
   "source": [
    "model = Sequential()\n",
    "model.add(LSTM(128, input_shape=(X_train.shape[1], X_train.shape[2])))\n",
    "model.add(Dropout(rate=0.2))\n",
    "\n",
    "model.add(RepeatVector(X_train.shape[1]))\n",
    "model.add(LSTM(128, return_sequences=True))\n",
    "\n",
    "model.add(Dropout(rate=0.2))\n",
    "model.add(TimeDistributed(Dense(X_train.shape[2])))\n",
    "\n",
    "model.compile(optimizer=tf.keras.optimizers.Adam(learning_rate=0.0001, epsilon=1e-08, decay=0.01), loss='mae')\n",
    "model.summary()"
   ]
  },
  {
   "cell_type": "code",
   "execution_count": 24,
   "metadata": {},
   "outputs": [
    {
     "name": "stdout",
     "output_type": "stream",
     "text": [
      "Epoch 1/3\n",
      "578/578 [==============================] - ETA: 7:06 - loss: 0.599 - ETA: 6:28 - loss: 0.575 - ETA: 6:32 - loss: 0.563 - ETA: 6:30 - loss: 0.577 - ETA: 6:27 - loss: 0.676 - ETA: 6:26 - loss: 0.702 - ETA: 6:39 - loss: 0.698 - ETA: 6:58 - loss: 0.687 - ETA: 7:15 - loss: 0.681 - ETA: 7:22 - loss: 0.681 - ETA: 7:27 - loss: 0.676 - ETA: 7:28 - loss: 0.660 - ETA: 7:28 - loss: 0.646 - ETA: 7:29 - loss: 0.633 - ETA: 7:34 - loss: 0.623 - ETA: 7:39 - loss: 0.616 - ETA: 7:42 - loss: 0.616 - ETA: 7:51 - loss: 0.627 - ETA: 7:53 - loss: 0.631 - ETA: 7:55 - loss: 0.632 - ETA: 7:56 - loss: 0.630 - ETA: 7:58 - loss: 0.629 - ETA: 7:59 - loss: 0.631 - ETA: 7:58 - loss: 0.630 - ETA: 7:58 - loss: 0.625 - ETA: 7:58 - loss: 0.619 - ETA: 7:58 - loss: 0.614 - ETA: 7:58 - loss: 0.613 - ETA: 7:59 - loss: 0.613 - ETA: 7:59 - loss: 0.616 - ETA: 7:58 - loss: 0.628 - ETA: 7:58 - loss: 0.634 - ETA: 7:58 - loss: 0.636 - ETA: 7:59 - loss: 0.636 - ETA: 7:59 - loss: 0.637 - ETA: 7:58 - loss: 0.637 - ETA: 7:59 - loss: 0.638 - ETA: 8:00 - loss: 0.637 - ETA: 8:00 - loss: 0.635 - ETA: 8:00 - loss: 0.631 - ETA: 8:00 - loss: 0.628 - ETA: 7:59 - loss: 0.625 - ETA: 7:58 - loss: 0.625 - ETA: 7:57 - loss: 0.635 - ETA: 7:57 - loss: 0.639 - ETA: 7:57 - loss: 0.639 - ETA: 7:56 - loss: 0.639 - ETA: 7:57 - loss: 0.638 - ETA: 7:57 - loss: 0.638 - ETA: 7:57 - loss: 0.638 - ETA: 7:57 - loss: 0.635 - ETA: 7:57 - loss: 0.632 - ETA: 7:57 - loss: 0.629 - ETA: 7:57 - loss: 0.628 - ETA: 7:57 - loss: 0.627 - ETA: 7:57 - loss: 0.628 - ETA: 7:57 - loss: 0.636 - ETA: 7:57 - loss: 0.640 - ETA: 7:57 - loss: 0.641 - ETA: 7:56 - loss: 0.641 - ETA: 7:56 - loss: 0.641 - ETA: 7:56 - loss: 0.641 - ETA: 7:55 - loss: 0.641 - ETA: 7:54 - loss: 0.639 - ETA: 7:54 - loss: 0.637 - ETA: 7:53 - loss: 0.635 - ETA: 7:52 - loss: 0.633 - ETA: 7:51 - loss: 0.632 - ETA: 7:51 - loss: 0.632 - ETA: 7:50 - loss: 0.637 - ETA: 7:49 - loss: 0.640 - ETA: 7:48 - loss: 0.640 - ETA: 7:48 - loss: 0.640 - ETA: 7:47 - loss: 0.640 - ETA: 7:46 - loss: 0.640 - ETA: 7:46 - loss: 0.641 - ETA: 7:45 - loss: 0.643 - ETA: 7:45 - loss: 0.645 - ETA: 7:44 - loss: 0.646 - ETA: 7:43 - loss: 0.649 - ETA: 7:43 - loss: 0.654 - ETA: 7:42 - loss: 0.656 - ETA: 7:41 - loss: 0.655 - ETA: 7:41 - loss: 0.654 - ETA: 7:41 - loss: 0.652 - ETA: 7:40 - loss: 0.651 - ETA: 7:39 - loss: 0.652 - ETA: 7:39 - loss: 0.654 - ETA: 7:38 - loss: 0.654 - ETA: 7:37 - loss: 0.653 - ETA: 7:36 - loss: 0.652 - ETA: 7:35 - loss: 0.652 - ETA: 7:35 - loss: 0.652 - ETA: 7:34 - loss: 0.652 - ETA: 7:33 - loss: 0.650 - ETA: 7:32 - loss: 0.648 - ETA: 7:31 - loss: 0.646 - ETA: 7:31 - loss: 0.645 - ETA: 7:30 - loss: 0.643 - ETA: 7:29 - loss: 0.644 - ETA: 7:29 - loss: 0.645 - ETA: 7:28 - loss: 0.644 - ETA: 7:27 - loss: 0.644 - ETA: 7:26 - loss: 0.643 - ETA: 7:25 - loss: 0.642 - ETA: 7:24 - loss: 0.643 - ETA: 7:23 - loss: 0.646 - ETA: 7:22 - loss: 0.647 - ETA: 7:22 - loss: 0.649 - ETA: 7:20 - loss: 0.650 - ETA: 7:19 - loss: 0.650 - ETA: 7:19 - loss: 0.651 - ETA: 7:18 - loss: 0.650 - ETA: 7:16 - loss: 0.649 - ETA: 7:15 - loss: 0.648 - ETA: 7:14 - loss: 0.649 - ETA: 7:13 - loss: 0.649 - ETA: 7:12 - loss: 0.651 - ETA: 7:12 - loss: 0.652 - ETA: 7:12 - loss: 0.652 - ETA: 7:11 - loss: 0.652 - ETA: 7:10 - loss: 0.652 - ETA: 7:09 - loss: 0.651 - ETA: 7:08 - loss: 0.652 - ETA: 7:07 - loss: 0.651 - ETA: 7:06 - loss: 0.650 - ETA: 7:05 - loss: 0.649 - ETA: 7:04 - loss: 0.648 - ETA: 7:03 - loss: 0.647 - ETA: 7:03 - loss: 0.650 - ETA: 7:02 - loss: 0.651 - ETA: 7:01 - loss: 0.651 - ETA: 7:00 - loss: 0.651 - ETA: 6:59 - loss: 0.653 - ETA: 6:58 - loss: 0.655 - ETA: 6:57 - loss: 0.657 - ETA: 6:56 - loss: 0.657 - ETA: 6:55 - loss: 0.657 - ETA: 6:54 - loss: 0.657 - ETA: 6:53 - loss: 0.657 - ETA: 6:52 - loss: 0.656 - ETA: 6:52 - loss: 0.656 - ETA: 6:51 - loss: 0.655 - ETA: 6:51 - loss: 0.654 - ETA: 6:50 - loss: 0.653 - ETA: 6:49 - loss: 0.652 - ETA: 6:48 - loss: 0.651 - ETA: 6:47 - loss: 0.651 - ETA: 6:46 - loss: 0.653 - ETA: 6:45 - loss: 0.654 - ETA: 6:44 - loss: 0.654 - ETA: 6:43 - loss: 0.653 - ETA: 6:42 - loss: 0.653 - ETA: 6:41 - loss: 0.653 - ETA: 6:40 - loss: 0.653 - ETA: 6:39 - loss: 0.652 - ETA: 6:38 - loss: 0.651 - ETA: 6:37 - loss: 0.650 - ETA: 6:36 - loss: 0.649 - ETA: 6:35 - loss: 0.648 - ETA: 6:35 - loss: 0.649 - ETA: 6:34 - loss: 0.651 - ETA: 6:33 - loss: 0.652 - ETA: 6:32 - loss: 0.652 - ETA: 6:31 - loss: 0.652 - ETA: 6:30 - loss: 0.652 - ETA: 6:29 - loss: 0.652 - ETA: 6:28 - loss: 0.652 - ETA: 6:27 - loss: 0.651 - ETA: 6:26 - loss: 0.650 - ETA: 6:26 - loss: 0.650 - ETA: 6:25 - loss: 0.649 - ETA: 6:24 - loss: 0.648 - ETA: 6:24 - loss: 0.648 - ETA: 6:23 - loss: 0.650 - ETA: 6:23 - loss: 0.651 - ETA: 6:22 - loss: 0.652 - ETA: 6:21 - loss: 0.652 - ETA: 6:21 - loss: 0.651 - ETA: 6:20 - loss: 0.651 - ETA: 6:19 - loss: 0.651 - ETA: 6:19 - loss: 0.651 - ETA: 6:19 - loss: 0.650 - ETA: 6:18 - loss: 0.649 - ETA: 6:18 - loss: 0.648 - ETA: 6:17 - loss: 0.647 - ETA: 6:17 - loss: 0.647 - ETA: 6:16 - loss: 0.648 - ETA: 6:15 - loss: 0.650 - ETA: 6:15 - loss: 0.650 - ETA: 6:14 - loss: 0.651 - ETA: 6:13 - loss: 0.651 - ETA: 6:12 - loss: 0.651 - ETA: 6:11 - loss: 0.651 - ETA: 6:10 - loss: 0.651 - ETA: 6:10 - loss: 0.651 - ETA: 6:09 - loss: 0.650 - ETA: 6:08 - loss: 0.650 - ETA: 6:07 - loss: 0.649 - ETA: 6:06 - loss: 0.649 - ETA: 6:05 - loss: 0.650 - ETA: 6:05 - loss: 0.651 - ETA: 6:04 - loss: 0.651 - ETA: 6:03 - loss: 0.651 - ETA: 6:02 - loss: 0.651 - ETA: 6:01 - loss: 0.651 - ETA: 6:00 - loss: 0.650 - ETA: 5:59 - loss: 0.650 - ETA: 5:58 - loss: 0.649 - ETA: 5:58 - loss: 0.649 - ETA: 5:57 - loss: 0.648 - ETA: 5:56 - loss: 0.647 - ETA: 5:55 - loss: 0.646 - ETA: 5:54 - loss: 0.647 - ETA: 5:53 - loss: 0.648 - ETA: 5:52 - loss: 0.648 - ETA: 5:51 - loss: 0.648 - ETA: 5:50 - loss: 0.648 - ETA: 5:49 - loss: 0.648 - ETA: 5:48 - loss: 0.648 - ETA: 5:48 - loss: 0.648 - ETA: 5:47 - loss: 0.648 - ETA: 5:46 - loss: 0.647 - ETA: 5:45 - loss: 0.647 - ETA: 5:44 - loss: 0.646 - ETA: 5:43 - loss: 0.645 - ETA: 5:42 - loss: 0.646 - ETA: 5:41 - loss: 0.647 - ETA: 5:40 - loss: 0.647 - ETA: 5:39 - loss: 0.647 - ETA: 5:39 - loss: 0.647 - ETA: 5:38 - loss: 0.647 - ETA: 5:37 - loss: 0.647 - ETA: 5:36 - loss: 0.647 - ETA: 5:35 - loss: 0.646 - ETA: 5:34 - loss: 0.645 - ETA: 5:33 - loss: 0.644 - ETA: 5:32 - loss: 0.644 - ETA: 5:31 - loss: 0.643 - ETA: 5:30 - loss: 0.643 - ETA: 5:29 - loss: 0.643 - ETA: 5:29 - loss: 0.643 - ETA: 5:28 - loss: 0.643 - ETA: 5:27 - loss: 0.642 - ETA: 5:26 - loss: 0.642 - ETA: 5:25 - loss: 0.642 - ETA: 5:25 - loss: 0.643 - ETA: 5:24 - loss: 0.642 - ETA: 5:23 - loss: 0.642 - ETA: 5:22 - loss: 0.642 - ETA: 5:21 - loss: 0.642 - ETA: 5:20 - loss: 0.642 - ETA: 5:19 - loss: 0.643 - ETA: 5:18 - loss: 0.643 - ETA: 5:18 - loss: 0.644 - ETA: 5:17 - loss: 0.643 - ETA: 5:16 - loss: 0.643 - ETA: 5:15 - loss: 0.643 - ETA: 5:14 - loss: 0.643 - ETA: 5:13 - loss: 0.643 - ETA: 5:12 - loss: 0.642 - ETA: 5:11 - loss: 0.642 - ETA: 5:10 - loss: 0.641 - ETA: 5:09 - loss: 0.640 - ETA: 5:08 - loss: 0.640 - ETA: 5:08 - loss: 0.641 - ETA: 5:07 - loss: 0.641 - ETA: 5:06 - loss: 0.641 - ETA: 5:05 - loss: 0.641 - ETA: 5:04 - loss: 0.640 - ETA: 5:03 - loss: 0.640 - ETA: 5:02 - loss: 0.640 - ETA: 5:01 - loss: 0.640 - ETA: 5:00 - loss: 0.639 - ETA: 5:00 - loss: 0.639 - ETA: 4:59 - loss: 0.639 - ETA: 4:58 - loss: 0.639 - ETA: 4:57 - loss: 0.640 - ETA: 4:56 - loss: 0.641 - ETA: 4:55 - loss: 0.641 - ETA: 4:54 - loss: 0.641 - ETA: 4:53 - loss: 0.640 - ETA: 4:52 - loss: 0.640 - ETA: 4:51 - loss: 0.641 - ETA: 4:50 - loss: 0.640 - ETA: 4:49 - loss: 0.640 - ETA: 4:48 - loss: 0.639 - ETA: 4:47 - loss: 0.639 - ETA: 4:46 - loss: 0.638 - ETA: 4:45 - loss: 0.638 - ETA: 4:44 - loss: 0.639 - ETA: 4:43 - loss: 0.639 - ETA: 4:42 - loss: 0.640 - ETA: 4:41 - loss: 0.639 - ETA: 4:40 - loss: 0.639 - ETA: 4:40 - loss: 0.639 - ETA: 4:39 - loss: 0.639 - ETA: 4:38 - loss: 0.639 - ETA: 4:37 - loss: 0.639 - ETA: 4:36 - loss: 0.639 - ETA: 4:36 - loss: 0.638 - ETA: 4:35 - loss: 0.639 - ETA: 4:34 - loss: 0.639 - ETA: 4:33 - loss: 0.640 - ETA: 4:32 - loss: 0.642 - ETA: 4:31 - loss: 0.643 - ETA: 4:31 - loss: 0.643 - ETA: 4:30 - loss: 0.644 - ETA: 4:29 - loss: 0.644 - ETA: 4:28 - loss: 0.644 - ETA: 4:27 - loss: 0.644 - ETA: 4:26 - loss: 0.644 - ETA: 4:26 - loss: 0.644 - ETA: 4:25 - loss: 0.643 - ETA: 4:24 - loss: 0.643 - ETA: 4:23 - loss: 0.643 - ETA: 4:22 - loss: 0.645 - ETA: 4:21 - loss: 0.648 - ETA: 4:20 - loss: 0.649 - ETA: 4:20 - loss: 0.651 - ETA: 4:19 - loss: 0.651 - ETA: 4:18 - loss: 0.653 - ETA: 4:17 - loss: 0.654 - ETA: 4:16 - loss: 0.656 - ETA: 4:15 - loss: 0.658 - ETA: 4:14 - loss: 0.658 - ETA: 4:13 - loss: 0.658 - ETA: 4:12 - loss: 0.659 - ETA: 4:11 - loss: 0.660 - ETA: 4:10 - loss: 0.659 - ETA: 4:09 - loss: 0.659 - ETA: 4:08 - loss: 0.658 - ETA: 4:07 - loss: 0.658 - ETA: 4:06 - loss: 0.660 - ETA: 4:05 - loss: 0.660 - ETA: 4:04 - loss: 0.660 - ETA: 4:03 - loss: 0.660 - ETA: 4:02 - loss: 0.660 - ETA: 4:01 - loss: 0.660 - ETA: 4:00 - loss: 0.660 - ETA: 3:59 - loss: 0.659 - ETA: 3:58 - loss: 0.659 - ETA: 3:57 - loss: 0.658 - ETA: 3:56 - loss: 0.657 - ETA: 3:55 - loss: 0.657 - ETA: 3:54 - loss: 0.657 - ETA: 3:53 - loss: 0.657 - ETA: 3:53 - loss: 0.658 - ETA: 3:51 - loss: 0.657 - ETA: 3:50 - loss: 0.657 - ETA: 3:49 - loss: 0.657 - ETA: 3:48 - loss: 0.657 - ETA: 3:47 - loss: 0.657 - ETA: 3:46 - loss: 0.656 - ETA: 3:45 - loss: 0.656 - ETA: 3:44 - loss: 0.655 - ETA: 3:44 - loss: 0.655 - ETA: 3:43 - loss: 0.655 - ETA: 3:42 - loss: 0.655 - ETA: 3:41 - loss: 0.656 - ETA: 3:40 - loss: 0.656 - ETA: 3:39 - loss: 0.656 - ETA: 3:38 - loss: 0.656 - ETA: 3:37 - loss: 0.656 - ETA: 3:36 - loss: 0.656 - ETA: 3:35 - loss: 0.656 - ETA: 3:34 - loss: 0.655 - ETA: 3:33 - loss: 0.655 - ETA: 3:32 - loss: 0.654 - ETA: 3:31 - loss: 0.654 - ETA: 3:30 - loss: 0.654 - ETA: 3:29 - loss: 0.654 - ETA: 3:28 - loss: 0.654 - ETA: 3:27 - loss: 0.655 - ETA: 3:26 - loss: 0.655 - ETA: 3:25 - loss: 0.654 - ETA: 3:24 - loss: 0.654 - ETA: 3:23 - loss: 0.654 - ETA: 3:22 - loss: 0.654 - ETA: 3:21 - loss: 0.653 - ETA: 3:20 - loss: 0.653 - ETA: 3:19 - loss: 0.652 - ETA: 3:18 - loss: 0.652 - ETA: 3:17 - loss: 0.652 - ETA: 3:16 - loss: 0.652 - ETA: 3:15 - loss: 0.653 - ETA: 3:14 - loss: 0.654 - ETA: 3:13 - loss: 0.654 - ETA: 3:12 - loss: 0.654 - ETA: 3:11 - loss: 0.654 - ETA: 3:10 - loss: 0.654 - ETA: 3:09 - loss: 0.654 - ETA: 3:08 - loss: 0.653 - ETA: 3:07 - loss: 0.653 - ETA: 3:06 - loss: 0.652 - ETA: 3:05 - loss: 0.652 - ETA: 3:04 - loss: 0.651 - ETA: 3:03 - loss: 0.651 - ETA: 3:02 - loss: 0.652 - ETA: 3:01 - loss: 0.652 - ETA: 3:00 - loss: 0.652 - ETA: 2:59 - loss: 0.652 - ETA: 2:58 - loss: 0.652 - ETA: 2:57 - loss: 0.652 - ETA: 2:56 - loss: 0.652 - ETA: 2:55 - loss: 0.651 - ETA: 2:54 - loss: 0.651 - ETA: 2:53 - loss: 0.650 - ETA: 2:52 - loss: 0.650 - ETA: 2:51 - loss: 0.650 - ETA: 2:50 - loss: 0.649 - ETA: 2:49 - loss: 0.651 - ETA: 2:48 - loss: 0.652 - ETA: 2:47 - loss: 0.652 - ETA: 2:46 - loss: 0.652 - ETA: 2:45 - loss: 0.652 - ETA: 2:44 - loss: 0.652 - ETA: 2:43 - loss: 0.652 - ETA: 2:42 - loss: 0.651 - ETA: 2:41 - loss: 0.651 - ETA: 2:40 - loss: 0.651 - ETA: 2:39 - loss: 0.650 - ETA: 2:38 - loss: 0.650 - ETA: 2:37 - loss: 0.650 - ETA: 2:36 - loss: 0.651 - ETA: 2:35 - loss: 0.651 - ETA: 2:34 - loss: 0.652 - ETA: 2:33 - loss: 0.652 - ETA: 2:32 - loss: 0.652 - ETA: 2:31 - loss: 0.653 - ETA: 2:29 - loss: 0.652 - ETA: 2:28 - loss: 0.652 - ETA: 2:27 - loss: 0.652 - ETA: 2:26 - loss: 0.651 - ETA: 2:25 - loss: 0.651 - ETA: 2:24 - loss: 0.652 - ETA: 2:24 - loss: 0.652 - ETA: 2:23 - loss: 0.652 - ETA: 2:21 - loss: 0.653 - ETA: 2:20 - loss: 0.654 - ETA: 2:19 - loss: 0.654 - ETA: 2:19 - loss: 0.654 - ETA: 2:18 - loss: 0.654 - ETA: 2:17 - loss: 0.654 - ETA: 2:16 - loss: 0.654 - ETA: 2:15 - loss: 0.654 - ETA: 2:14 - loss: 0.654 - ETA: 2:12 - loss: 0.654 - ETA: 2:11 - loss: 0.654 - ETA: 2:10 - loss: 0.653 - ETA: 2:09 - loss: 0.653 - ETA: 2:08 - loss: 0.652 - ETA: 2:07 - loss: 0.652 - ETA: 2:06 - loss: 0.652 - ETA: 2:05 - loss: 0.652 - ETA: 2:04 - loss: 0.652 - ETA: 2:03 - loss: 0.652 - ETA: 2:02 - loss: 0.652 - ETA: 2:01 - loss: 0.652 - ETA: 2:00 - loss: 0.652 - ETA: 1:59 - loss: 0.652 - ETA: 1:58 - loss: 0.652 - ETA: 1:57 - loss: 0.651 - ETA: 1:56 - loss: 0.651 - ETA: 1:55 - loss: 0.652 - ETA: 1:54 - loss: 0.652 - ETA: 1:53 - loss: 0.653 - ETA: 1:52 - loss: 0.653 - ETA: 1:51 - loss: 0.653 - ETA: 1:50 - loss: 0.653 - ETA: 1:49 - loss: 0.653 - ETA: 1:48 - loss: 0.653 - ETA: 1:47 - loss: 0.653 - ETA: 1:46 - loss: 0.653 - ETA: 1:45 - loss: 0.653 - ETA: 1:44 - loss: 0.652 - ETA: 1:43 - loss: 0.652 - ETA: 1:42 - loss: 0.652 - ETA: 1:41 - loss: 0.653 - ETA: 1:40 - loss: 0.653 - ETA: 1:39 - loss: 0.653 - ETA: 1:38 - loss: 0.653 - ETA: 1:37 - loss: 0.653 - ETA: 1:36 - loss: 0.653 - ETA: 1:35 - loss: 0.653 - ETA: 1:34 - loss: 0.653 - ETA: 1:33 - loss: 0.652 - ETA: 1:32 - loss: 0.652 - ETA: 1:30 - loss: 0.652 - ETA: 1:29 - loss: 0.651 - ETA: 1:28 - loss: 0.653 - ETA: 1:27 - loss: 0.654 - ETA: 1:26 - loss: 0.654 - ETA: 1:25 - loss: 0.654 - ETA: 1:24 - loss: 0.654 - ETA: 1:23 - loss: 0.654 - ETA: 1:22 - loss: 0.654 - ETA: 1:21 - loss: 0.653 - ETA: 1:20 - loss: 0.653 - ETA: 1:19 - loss: 0.653 - ETA: 1:18 - loss: 0.653 - ETA: 1:17 - loss: 0.653 - ETA: 1:16 - loss: 0.653 - ETA: 1:15 - loss: 0.653 - ETA: 1:14 - loss: 0.653 - ETA: 1:13 - loss: 0.653 - ETA: 1:12 - loss: 0.653 - ETA: 1:11 - loss: 0.653 - ETA: 1:10 - loss: 0.653 - ETA: 1:09 - loss: 0.653 - ETA: 1:08 - loss: 0.652 - ETA: 1:07 - loss: 0.652 - ETA: 1:06 - loss: 0.652 - ETA: 1:05 - loss: 0.653 - ETA: 1:04 - loss: 0.653 - ETA: 1:03 - loss: 0.653 - ETA: 1:02 - loss: 0.653 - ETA: 1:01 - loss: 0.653 - ETA: 1:00 - loss: 0.654 - ETA: 59s - loss: 0.654 - ETA: 58s - loss: 0.65 - ETA: 57s - loss: 0.65 - ETA: 56s - loss: 0.65 - ETA: 55s - loss: 0.65 - ETA: 54s - loss: 0.65 - ETA: 53s - loss: 0.65 - ETA: 52s - loss: 0.65 - ETA: 51s - loss: 0.65 - ETA: 50s - loss: 0.65 - ETA: 49s - loss: 0.65 - ETA: 48s - loss: 0.65 - ETA: 47s - loss: 0.65 - ETA: 46s - loss: 0.65 - ETA: 45s - loss: 0.65 - ETA: 44s - loss: 0.65 - ETA: 43s - loss: 0.65 - ETA: 42s - loss: 0.65 - ETA: 41s - loss: 0.65 - ETA: 40s - loss: 0.65 - ETA: 39s - loss: 0.65 - ETA: 38s - loss: 0.65 - ETA: 37s - loss: 0.65 - ETA: 36s - loss: 0.65 - ETA: 35s - loss: 0.65 - ETA: 34s - loss: 0.65 - ETA: 33s - loss: 0.65 - ETA: 32s - loss: 0.65 - ETA: 30s - loss: 0.65 - ETA: 29s - loss: 0.65 - ETA: 28s - loss: 0.65 - ETA: 27s - loss: 0.65 - ETA: 26s - loss: 0.65 - ETA: 25s - loss: 0.65 - ETA: 24s - loss: 0.65 - ETA: 23s - loss: 0.65 - ETA: 22s - loss: 0.65 - ETA: 21s - loss: 0.65 - ETA: 20s - loss: 0.65 - ETA: 19s - loss: 0.65 - ETA: 18s - loss: 0.65 - ETA: 17s - loss: 0.65 - ETA: 16s - loss: 0.65 - ETA: 15s - loss: 0.65 - ETA: 14s - loss: 0.65 - ETA: 13s - loss: 0.65 - ETA: 12s - loss: 0.65 - ETA: 11s - loss: 0.65 - ETA: 10s - loss: 0.65 - ETA: 9s - loss: 0.6531 - ETA: 8s - loss: 0.653 - ETA: 7s - loss: 0.652 - ETA: 6s - loss: 0.653 - ETA: 5s - loss: 0.652 - ETA: 4s - loss: 0.652 - ETA: 3s - loss: 0.652 - ETA: 2s - loss: 0.652 - ETA: 1s - loss: 0.651 - ETA: 0s - loss: 0.651 - 628s 1s/step - loss: 0.6518 - val_loss: 0.6647\n",
      "Epoch 2/3\n",
      "578/578 [==============================] - ETA: 7:48 - loss: 0.599 - ETA: 8:09 - loss: 0.575 - ETA: 8:39 - loss: 0.563 - ETA: 8:35 - loss: 0.576 - ETA: 8:39 - loss: 0.674 - ETA: 8:41 - loss: 0.699 - ETA: 8:32 - loss: 0.696 - ETA: 8:24 - loss: 0.685 - ETA: 8:17 - loss: 0.679 - ETA: 8:20 - loss: 0.679 - ETA: 8:21 - loss: 0.674 - ETA: 8:18 - loss: 0.659 - ETA: 8:19 - loss: 0.645 - ETA: 8:18 - loss: 0.632 - ETA: 8:21 - loss: 0.623 - ETA: 8:19 - loss: 0.615 - ETA: 8:26 - loss: 0.616 - ETA: 8:35 - loss: 0.626 - ETA: 8:34 - loss: 0.630 - ETA: 8:35 - loss: 0.631 - ETA: 8:34 - loss: 0.629 - ETA: 8:32 - loss: 0.629 - ETA: 8:28 - loss: 0.630 - ETA: 8:25 - loss: 0.630 - ETA: 8:23 - loss: 0.624 - ETA: 8:22 - loss: 0.619 - ETA: 8:21 - loss: 0.614 - ETA: 8:20 - loss: 0.613 - ETA: 8:19 - loss: 0.612 - ETA: 8:19 - loss: 0.615 - ETA: 8:18 - loss: 0.627 - ETA: 8:16 - loss: 0.633 - ETA: 8:14 - loss: 0.635 - ETA: 8:13 - loss: 0.636 - ETA: 8:11 - loss: 0.636 - ETA: 8:10 - loss: 0.637 - ETA: 8:12 - loss: 0.638 - ETA: 8:15 - loss: 0.636 - ETA: 8:15 - loss: 0.634 - ETA: 8:14 - loss: 0.631 - ETA: 8:15 - loss: 0.627 - ETA: 8:16 - loss: 0.625 - ETA: 8:17 - loss: 0.625 - ETA: 8:17 - loss: 0.634 - ETA: 8:17 - loss: 0.639 - ETA: 8:15 - loss: 0.639 - ETA: 8:15 - loss: 0.638 - ETA: 8:13 - loss: 0.637 - ETA: 8:13 - loss: 0.638 - ETA: 8:11 - loss: 0.637 - ETA: 8:09 - loss: 0.634 - ETA: 8:08 - loss: 0.631 - ETA: 8:06 - loss: 0.629 - ETA: 8:05 - loss: 0.628 - ETA: 8:03 - loss: 0.627 - ETA: 8:01 - loss: 0.628 - ETA: 8:00 - loss: 0.636 - ETA: 7:58 - loss: 0.640 - ETA: 7:56 - loss: 0.640 - ETA: 7:54 - loss: 0.640 - ETA: 7:53 - loss: 0.640 - ETA: 7:51 - loss: 0.640 - ETA: 7:50 - loss: 0.641 - ETA: 7:48 - loss: 0.639 - ETA: 7:47 - loss: 0.637 - ETA: 7:46 - loss: 0.635 - ETA: 7:44 - loss: 0.633 - ETA: 7:44 - loss: 0.632 - ETA: 7:43 - loss: 0.632 - ETA: 7:41 - loss: 0.637 - ETA: 7:40 - loss: 0.639 - ETA: 7:39 - loss: 0.639 - ETA: 7:38 - loss: 0.639 - ETA: 7:37 - loss: 0.639 - ETA: 7:36 - loss: 0.639 - ETA: 7:36 - loss: 0.640 - ETA: 7:35 - loss: 0.643 - ETA: 7:34 - loss: 0.644 - ETA: 7:32 - loss: 0.646 - ETA: 7:32 - loss: 0.649 - ETA: 7:31 - loss: 0.653 - ETA: 7:30 - loss: 0.655 - ETA: 7:29 - loss: 0.655 - ETA: 7:28 - loss: 0.653 - ETA: 7:28 - loss: 0.652 - ETA: 7:27 - loss: 0.650 - ETA: 7:26 - loss: 0.652 - ETA: 7:26 - loss: 0.653 - ETA: 7:25 - loss: 0.653 - ETA: 7:24 - loss: 0.653 - ETA: 7:23 - loss: 0.652 - ETA: 7:22 - loss: 0.651 - ETA: 7:21 - loss: 0.652 - ETA: 7:20 - loss: 0.651 - ETA: 7:19 - loss: 0.650 - ETA: 7:19 - loss: 0.648 - ETA: 7:18 - loss: 0.646 - ETA: 7:17 - loss: 0.644 - ETA: 7:16 - loss: 0.643 - ETA: 7:15 - loss: 0.643 - ETA: 7:13 - loss: 0.644 - ETA: 7:12 - loss: 0.644 - ETA: 7:11 - loss: 0.643 - ETA: 7:10 - loss: 0.643 - ETA: 7:09 - loss: 0.642 - ETA: 7:08 - loss: 0.642 - ETA: 7:07 - loss: 0.645 - ETA: 7:05 - loss: 0.647 - ETA: 7:04 - loss: 0.648 - ETA: 7:03 - loss: 0.649 - ETA: 7:02 - loss: 0.650 - ETA: 7:01 - loss: 0.650 - ETA: 7:00 - loss: 0.649 - ETA: 6:59 - loss: 0.648 - ETA: 6:58 - loss: 0.648 - ETA: 6:57 - loss: 0.648 - ETA: 6:56 - loss: 0.649 - ETA: 6:56 - loss: 0.651 - ETA: 6:55 - loss: 0.652 - ETA: 6:54 - loss: 0.652 - ETA: 6:53 - loss: 0.652 - ETA: 6:51 - loss: 0.651 - ETA: 6:50 - loss: 0.651 - ETA: 6:49 - loss: 0.651 - ETA: 6:48 - loss: 0.651 - ETA: 6:47 - loss: 0.650 - ETA: 6:46 - loss: 0.648 - ETA: 6:45 - loss: 0.647 - ETA: 6:43 - loss: 0.647 - ETA: 6:42 - loss: 0.649 - ETA: 6:41 - loss: 0.650 - ETA: 6:40 - loss: 0.651 - ETA: 6:39 - loss: 0.651 - ETA: 6:38 - loss: 0.652 - ETA: 6:37 - loss: 0.654 - ETA: 6:36 - loss: 0.656 - ETA: 6:34 - loss: 0.657 - ETA: 6:33 - loss: 0.657 - ETA: 6:33 - loss: 0.657 - ETA: 6:32 - loss: 0.656 - ETA: 6:30 - loss: 0.656 - ETA: 6:30 - loss: 0.656 - ETA: 6:29 - loss: 0.655 - ETA: 6:27 - loss: 0.654 - ETA: 6:27 - loss: 0.653 - ETA: 6:26 - loss: 0.652 - ETA: 6:25 - loss: 0.651 - ETA: 6:24 - loss: 0.651 - ETA: 6:23 - loss: 0.653 - ETA: 6:22 - loss: 0.654 - ETA: 6:22 - loss: 0.653 - ETA: 6:22 - loss: 0.653 - ETA: 6:22 - loss: 0.652 - ETA: 6:21 - loss: 0.652 - ETA: 6:21 - loss: 0.652 - ETA: 6:20 - loss: 0.651 - ETA: 6:19 - loss: 0.650 - ETA: 6:19 - loss: 0.649 - ETA: 6:18 - loss: 0.648 - ETA: 6:18 - loss: 0.648 - ETA: 6:17 - loss: 0.648 - ETA: 6:17 - loss: 0.650 - ETA: 6:17 - loss: 0.652 - ETA: 6:16 - loss: 0.652 - ETA: 6:16 - loss: 0.652 - ETA: 6:16 - loss: 0.652 - ETA: 6:16 - loss: 0.652 - ETA: 6:15 - loss: 0.651 - ETA: 6:15 - loss: 0.651 - ETA: 6:14 - loss: 0.650 - ETA: 6:14 - loss: 0.649 - ETA: 6:13 - loss: 0.648 - ETA: 6:13 - loss: 0.648 - ETA: 6:12 - loss: 0.647 - ETA: 6:12 - loss: 0.650 - ETA: 6:11 - loss: 0.651 - ETA: 6:11 - loss: 0.651 - ETA: 6:10 - loss: 0.651 - ETA: 6:09 - loss: 0.651 - ETA: 6:09 - loss: 0.651 - ETA: 6:08 - loss: 0.651 - ETA: 6:08 - loss: 0.650 - ETA: 6:07 - loss: 0.649 - ETA: 6:06 - loss: 0.649 - ETA: 6:06 - loss: 0.648 - ETA: 6:05 - loss: 0.647 - ETA: 6:04 - loss: 0.646 - ETA: 6:03 - loss: 0.648 - ETA: 6:02 - loss: 0.649 - ETA: 6:01 - loss: 0.650 - ETA: 6:00 - loss: 0.651 - ETA: 5:59 - loss: 0.651 - ETA: 5:58 - loss: 0.651 - ETA: 5:57 - loss: 0.651 - ETA: 5:56 - loss: 0.651 - ETA: 5:55 - loss: 0.651 - ETA: 5:54 - loss: 0.650 - ETA: 5:53 - loss: 0.649 - ETA: 5:52 - loss: 0.649 - ETA: 5:51 - loss: 0.648 - ETA: 5:50 - loss: 0.649 - ETA: 5:49 - loss: 0.650 - ETA: 5:48 - loss: 0.651 - ETA: 5:47 - loss: 0.650 - ETA: 5:46 - loss: 0.650 - ETA: 5:45 - loss: 0.650 - ETA: 5:44 - loss: 0.650 - ETA: 5:43 - loss: 0.650 - ETA: 5:42 - loss: 0.649 - ETA: 5:41 - loss: 0.648 - ETA: 5:40 - loss: 0.647 - ETA: 5:39 - loss: 0.647 - ETA: 5:38 - loss: 0.646 - ETA: 5:37 - loss: 0.647 - ETA: 5:36 - loss: 0.648 - ETA: 5:35 - loss: 0.648 - ETA: 5:34 - loss: 0.647 - ETA: 5:33 - loss: 0.647 - ETA: 5:32 - loss: 0.647 - ETA: 5:31 - loss: 0.648 - ETA: 5:30 - loss: 0.648 - ETA: 5:29 - loss: 0.647 - ETA: 5:28 - loss: 0.647 - ETA: 5:27 - loss: 0.646 - ETA: 5:27 - loss: 0.646 - ETA: 5:26 - loss: 0.645 - ETA: 5:25 - loss: 0.645 - ETA: 5:25 - loss: 0.646 - ETA: 5:24 - loss: 0.647 - ETA: 5:23 - loss: 0.646 - ETA: 5:23 - loss: 0.646 - ETA: 5:22 - loss: 0.646 - ETA: 5:21 - loss: 0.646 - ETA: 5:21 - loss: 0.646 - ETA: 5:20 - loss: 0.646 - ETA: 5:19 - loss: 0.645 - ETA: 5:18 - loss: 0.644 - ETA: 5:17 - loss: 0.643 - ETA: 5:17 - loss: 0.643 - ETA: 5:16 - loss: 0.642 - ETA: 5:15 - loss: 0.643 - ETA: 5:14 - loss: 0.643 - ETA: 5:13 - loss: 0.642 - ETA: 5:12 - loss: 0.642 - ETA: 5:11 - loss: 0.642 - ETA: 5:10 - loss: 0.642 - ETA: 5:10 - loss: 0.642 - ETA: 5:09 - loss: 0.642 - ETA: 5:08 - loss: 0.642 - ETA: 5:07 - loss: 0.642 - ETA: 5:06 - loss: 0.642 - ETA: 5:05 - loss: 0.642 - ETA: 5:04 - loss: 0.643 - ETA: 5:03 - loss: 0.643 - ETA: 5:02 - loss: 0.643 - ETA: 5:01 - loss: 0.643 - ETA: 5:00 - loss: 0.643 - ETA: 4:59 - loss: 0.643 - ETA: 4:58 - loss: 0.643 - ETA: 4:57 - loss: 0.643 - ETA: 4:56 - loss: 0.642 - ETA: 4:55 - loss: 0.641 - ETA: 4:54 - loss: 0.641 - ETA: 4:53 - loss: 0.640 - ETA: 4:52 - loss: 0.640 - ETA: 4:51 - loss: 0.641 - ETA: 4:50 - loss: 0.641 - ETA: 4:49 - loss: 0.641 - ETA: 4:48 - loss: 0.640 - ETA: 4:47 - loss: 0.640 - ETA: 4:46 - loss: 0.640 - ETA: 4:45 - loss: 0.640 - ETA: 4:44 - loss: 0.639 - ETA: 4:43 - loss: 0.639 - ETA: 4:42 - loss: 0.638 - ETA: 4:41 - loss: 0.638 - ETA: 4:40 - loss: 0.639 - ETA: 4:39 - loss: 0.640 - ETA: 4:38 - loss: 0.640 - ETA: 4:37 - loss: 0.640 - ETA: 4:36 - loss: 0.640 - ETA: 4:35 - loss: 0.640 - ETA: 4:34 - loss: 0.640 - ETA: 4:33 - loss: 0.640 - ETA: 4:32 - loss: 0.640 - ETA: 4:31 - loss: 0.639 - ETA: 4:30 - loss: 0.639 - ETA: 4:29 - loss: 0.638 - ETA: 4:28 - loss: 0.638 - ETA: 4:27 - loss: 0.638 - ETA: 4:26 - loss: 0.639 - ETA: 4:26 - loss: 0.639 - ETA: 4:25 - loss: 0.639 - ETA: 4:24 - loss: 0.639 - ETA: 4:23 - loss: 0.639 - ETA: 4:22 - loss: 0.639 - ETA: 4:21 - loss: 0.639 - ETA: 4:20 - loss: 0.639 - ETA: 4:19 - loss: 0.639 - ETA: 4:18 - loss: 0.638 - ETA: 4:17 - loss: 0.638 - ETA: 4:16 - loss: 0.638 - ETA: 4:15 - loss: 0.639 - ETA: 4:14 - loss: 0.640 - ETA: 4:13 - loss: 0.642 - ETA: 4:12 - loss: 0.642 - ETA: 4:11 - loss: 0.643 - ETA: 4:10 - loss: 0.643 - ETA: 4:09 - loss: 0.643 - ETA: 4:08 - loss: 0.644 - ETA: 4:07 - loss: 0.644 - ETA: 4:06 - loss: 0.643 - ETA: 4:05 - loss: 0.643 - ETA: 4:04 - loss: 0.643 - ETA: 4:03 - loss: 0.643 - ETA: 4:02 - loss: 0.643 - ETA: 4:01 - loss: 0.645 - ETA: 4:00 - loss: 0.648 - ETA: 3:59 - loss: 0.649 - ETA: 3:58 - loss: 0.650 - ETA: 3:57 - loss: 0.651 - ETA: 3:56 - loss: 0.652 - ETA: 3:55 - loss: 0.653 - ETA: 3:54 - loss: 0.655 - ETA: 3:53 - loss: 0.658 - ETA: 3:52 - loss: 0.658 - ETA: 3:51 - loss: 0.658 - ETA: 3:50 - loss: 0.658 - ETA: 3:49 - loss: 0.659 - ETA: 3:49 - loss: 0.658 - ETA: 3:47 - loss: 0.658 - ETA: 3:47 - loss: 0.658 - ETA: 3:46 - loss: 0.658 - ETA: 3:45 - loss: 0.659 - ETA: 3:44 - loss: 0.660 - ETA: 3:43 - loss: 0.660 - ETA: 3:42 - loss: 0.660 - ETA: 3:41 - loss: 0.659 - ETA: 3:40 - loss: 0.660 - ETA: 3:39 - loss: 0.659 - ETA: 3:38 - loss: 0.659 - ETA: 3:37 - loss: 0.658 - ETA: 3:36 - loss: 0.658 - ETA: 3:35 - loss: 0.657 - ETA: 3:34 - loss: 0.657 - ETA: 3:33 - loss: 0.656 - ETA: 3:32 - loss: 0.657 - ETA: 3:32 - loss: 0.657 - ETA: 3:31 - loss: 0.657 - ETA: 3:30 - loss: 0.657 - ETA: 3:29 - loss: 0.656 - ETA: 3:28 - loss: 0.656 - ETA: 3:27 - loss: 0.656 - ETA: 3:26 - loss: 0.656 - ETA: 3:25 - loss: 0.655 - ETA: 3:24 - loss: 0.655 - ETA: 3:24 - loss: 0.654 - ETA: 3:23 - loss: 0.654 - ETA: 3:22 - loss: 0.654 - ETA: 3:21 - loss: 0.655 - ETA: 3:20 - loss: 0.656 - ETA: 3:19 - loss: 0.656 - ETA: 3:18 - loss: 0.656 - ETA: 3:17 - loss: 0.655 - ETA: 3:16 - loss: 0.655 - ETA: 3:15 - loss: 0.655 - ETA: 3:14 - loss: 0.655 - ETA: 3:13 - loss: 0.655 - ETA: 3:13 - loss: 0.654 - ETA: 3:12 - loss: 0.654 - ETA: 3:11 - loss: 0.653 - ETA: 3:10 - loss: 0.653 - ETA: 3:09 - loss: 0.654 - ETA: 3:08 - loss: 0.654 - ETA: 3:07 - loss: 0.654 - ETA: 3:06 - loss: 0.654 - ETA: 3:05 - loss: 0.654 - ETA: 3:04 - loss: 0.654 - ETA: 3:03 - loss: 0.654 - ETA: 3:02 - loss: 0.653 - ETA: 3:01 - loss: 0.653 - ETA: 3:00 - loss: 0.652 - ETA: 2:59 - loss: 0.652 - ETA: 2:58 - loss: 0.651 - ETA: 2:57 - loss: 0.652 - ETA: 2:56 - loss: 0.653 - ETA: 2:55 - loss: 0.653 - ETA: 2:54 - loss: 0.654 - ETA: 2:54 - loss: 0.654 - ETA: 2:53 - loss: 0.653 - ETA: 2:52 - loss: 0.654 - ETA: 2:51 - loss: 0.653 - ETA: 2:50 - loss: 0.653 - ETA: 2:49 - loss: 0.652 - ETA: 2:48 - loss: 0.652 - ETA: 2:47 - loss: 0.651 - ETA: 2:46 - loss: 0.651 - ETA: 2:45 - loss: 0.651 - ETA: 2:44 - loss: 0.652 - ETA: 2:43 - loss: 0.652 - ETA: 2:42 - loss: 0.652 - ETA: 2:41 - loss: 0.652 - ETA: 2:40 - loss: 0.651 - ETA: 2:39 - loss: 0.651 - ETA: 2:38 - loss: 0.651 - ETA: 2:37 - loss: 0.651 - ETA: 2:36 - loss: 0.650 - ETA: 2:36 - loss: 0.650 - ETA: 2:35 - loss: 0.650 - ETA: 2:34 - loss: 0.649 - ETA: 2:33 - loss: 0.649 - ETA: 2:32 - loss: 0.650 - ETA: 2:31 - loss: 0.651 - ETA: 2:30 - loss: 0.651 - ETA: 2:29 - loss: 0.651 - ETA: 2:28 - loss: 0.651 - ETA: 2:27 - loss: 0.651 - ETA: 2:26 - loss: 0.651 - ETA: 2:25 - loss: 0.651 - ETA: 2:24 - loss: 0.651 - ETA: 2:23 - loss: 0.650 - ETA: 2:23 - loss: 0.650 - ETA: 2:22 - loss: 0.649 - ETA: 2:21 - loss: 0.649 - ETA: 2:20 - loss: 0.651 - ETA: 2:19 - loss: 0.651 - ETA: 2:18 - loss: 0.651 - ETA: 2:17 - loss: 0.652 - ETA: 2:16 - loss: 0.652 - ETA: 2:15 - loss: 0.652 - ETA: 2:14 - loss: 0.652 - ETA: 2:13 - loss: 0.652 - ETA: 2:12 - loss: 0.651 - ETA: 2:11 - loss: 0.651 - ETA: 2:10 - loss: 0.651 - ETA: 2:09 - loss: 0.652 - ETA: 2:08 - loss: 0.652 - ETA: 2:08 - loss: 0.652 - ETA: 2:07 - loss: 0.653 - ETA: 2:06 - loss: 0.653 - ETA: 2:05 - loss: 0.653 - ETA: 2:04 - loss: 0.654 - ETA: 2:03 - loss: 0.654 - ETA: 2:02 - loss: 0.654 - ETA: 2:01 - loss: 0.654 - ETA: 2:00 - loss: 0.654 - ETA: 1:59 - loss: 0.654 - ETA: 1:58 - loss: 0.654 - ETA: 1:57 - loss: 0.653 - ETA: 1:56 - loss: 0.653 - ETA: 1:55 - loss: 0.652 - ETA: 1:54 - loss: 0.652 - ETA: 1:54 - loss: 0.652 - ETA: 1:53 - loss: 0.652 - ETA: 1:52 - loss: 0.652 - ETA: 1:51 - loss: 0.652 - ETA: 1:50 - loss: 0.652 - ETA: 1:49 - loss: 0.652 - ETA: 1:48 - loss: 0.652 - ETA: 1:47 - loss: 0.652 - ETA: 1:46 - loss: 0.652 - ETA: 1:45 - loss: 0.651 - ETA: 1:44 - loss: 0.651 - ETA: 1:43 - loss: 0.651 - ETA: 1:42 - loss: 0.651 - ETA: 1:42 - loss: 0.651 - ETA: 1:41 - loss: 0.652 - ETA: 1:40 - loss: 0.653 - ETA: 1:39 - loss: 0.653 - ETA: 1:38 - loss: 0.653 - ETA: 1:37 - loss: 0.653 - ETA: 1:36 - loss: 0.653 - ETA: 1:35 - loss: 0.653 - ETA: 1:34 - loss: 0.653 - ETA: 1:33 - loss: 0.652 - ETA: 1:32 - loss: 0.652 - ETA: 1:31 - loss: 0.652 - ETA: 1:30 - loss: 0.652 - ETA: 1:30 - loss: 0.652 - ETA: 1:29 - loss: 0.653 - ETA: 1:28 - loss: 0.653 - ETA: 1:27 - loss: 0.653 - ETA: 1:26 - loss: 0.653 - ETA: 1:25 - loss: 0.653 - ETA: 1:24 - loss: 0.653 - ETA: 1:23 - loss: 0.652 - ETA: 1:22 - loss: 0.652 - ETA: 1:21 - loss: 0.651 - ETA: 1:20 - loss: 0.651 - ETA: 1:19 - loss: 0.651 - ETA: 1:18 - loss: 0.652 - ETA: 1:18 - loss: 0.653 - ETA: 1:17 - loss: 0.653 - ETA: 1:16 - loss: 0.653 - ETA: 1:15 - loss: 0.653 - ETA: 1:14 - loss: 0.653 - ETA: 1:13 - loss: 0.653 - ETA: 1:12 - loss: 0.653 - ETA: 1:11 - loss: 0.653 - ETA: 1:10 - loss: 0.653 - ETA: 1:09 - loss: 0.652 - ETA: 1:08 - loss: 0.653 - ETA: 1:07 - loss: 0.653 - ETA: 1:07 - loss: 0.653 - ETA: 1:06 - loss: 0.653 - ETA: 1:05 - loss: 0.653 - ETA: 1:04 - loss: 0.653 - ETA: 1:03 - loss: 0.653 - ETA: 1:02 - loss: 0.653 - ETA: 1:01 - loss: 0.652 - ETA: 1:00 - loss: 0.652 - ETA: 59s - loss: 0.652 - ETA: 58s - loss: 0.65 - ETA: 57s - loss: 0.65 - ETA: 56s - loss: 0.65 - ETA: 56s - loss: 0.65 - ETA: 55s - loss: 0.65 - ETA: 54s - loss: 0.65 - ETA: 53s - loss: 0.65 - ETA: 52s - loss: 0.65 - ETA: 51s - loss: 0.65 - ETA: 50s - loss: 0.65 - ETA: 49s - loss: 0.65 - ETA: 48s - loss: 0.65 - ETA: 47s - loss: 0.65 - ETA: 46s - loss: 0.65 - ETA: 46s - loss: 0.65 - ETA: 45s - loss: 0.65 - ETA: 44s - loss: 0.65 - ETA: 43s - loss: 0.65 - ETA: 42s - loss: 0.65 - ETA: 41s - loss: 0.65 - ETA: 40s - loss: 0.65 - ETA: 39s - loss: 0.65 - ETA: 38s - loss: 0.65 - ETA: 37s - loss: 0.65 - ETA: 37s - loss: 0.65 - ETA: 36s - loss: 0.65 - ETA: 35s - loss: 0.65 - ETA: 34s - loss: 0.65 - ETA: 33s - loss: 0.65 - ETA: 32s - loss: 0.65 - ETA: 31s - loss: 0.65 - ETA: 30s - loss: 0.65 - ETA: 29s - loss: 0.65 - ETA: 28s - loss: 0.65 - ETA: 27s - loss: 0.65 - ETA: 27s - loss: 0.65 - ETA: 26s - loss: 0.65 - ETA: 25s - loss: 0.65 - ETA: 24s - loss: 0.65 - ETA: 23s - loss: 0.65 - ETA: 22s - loss: 0.65 - ETA: 21s - loss: 0.65 - ETA: 20s - loss: 0.65 - ETA: 19s - loss: 0.65 - ETA: 18s - loss: 0.65 - ETA: 18s - loss: 0.65 - ETA: 17s - loss: 0.65 - ETA: 16s - loss: 0.65 - ETA: 15s - loss: 0.65 - ETA: 14s - loss: 0.65 - ETA: 13s - loss: 0.65 - ETA: 12s - loss: 0.65 - ETA: 11s - loss: 0.65 - ETA: 10s - loss: 0.65 - ETA: 9s - loss: 0.6526 - ETA: 9s - loss: 0.652 - ETA: 8s - loss: 0.652 - ETA: 7s - loss: 0.652 - ETA: 6s - loss: 0.652 - ETA: 5s - loss: 0.652 - ETA: 4s - loss: 0.652 - ETA: 3s - loss: 0.652 - ETA: 2s - loss: 0.652 - ETA: 1s - loss: 0.651 - ETA: 0s - loss: 0.651 - ETA: 0s - loss: 0.651 - 552s 955ms/step - loss: 0.6515 - val_loss: 0.6646\n"
     ]
    }
   ],
   "source": [
    "history = model.fit(X_train, y_train, epochs=3, batch_size=1024, validation_data=(X_val, y_val),\n",
    "                    callbacks=[keras.callbacks.EarlyStopping(monitor='val_loss', mode='min')], shuffle=False)"
   ]
  },
  {
   "cell_type": "code",
   "execution_count": null,
   "metadata": {},
   "outputs": [],
   "source": []
  },
  {
   "cell_type": "code",
   "execution_count": null,
   "metadata": {},
   "outputs": [],
   "source": []
  },
  {
   "cell_type": "code",
   "execution_count": null,
   "metadata": {},
   "outputs": [],
   "source": []
  },
  {
   "cell_type": "markdown",
   "metadata": {},
   "source": [
    "### Scale sales"
   ]
  },
  {
   "cell_type": "code",
   "execution_count": 74,
   "metadata": {},
   "outputs": [],
   "source": [
    "manu = DataManipulator(train)"
   ]
  },
  {
   "cell_type": "code",
   "execution_count": 75,
   "metadata": {},
   "outputs": [
    {
     "data": {
      "text/html": [
       "<div>\n",
       "<style scoped>\n",
       "    .dataframe tbody tr th:only-of-type {\n",
       "        vertical-align: middle;\n",
       "    }\n",
       "\n",
       "    .dataframe tbody tr th {\n",
       "        vertical-align: top;\n",
       "    }\n",
       "\n",
       "    .dataframe thead th {\n",
       "        text-align: right;\n",
       "    }\n",
       "</style>\n",
       "<table border=\"1\" class=\"dataframe\">\n",
       "  <thead>\n",
       "    <tr style=\"text-align: right;\">\n",
       "      <th></th>\n",
       "      <th>Date</th>\n",
       "      <th>Sales</th>\n",
       "    </tr>\n",
       "  </thead>\n",
       "  <tbody>\n",
       "    <tr>\n",
       "      <th>1016447</th>\n",
       "      <td>-1.718061</td>\n",
       "      <td>-1.202316</td>\n",
       "    </tr>\n",
       "    <tr>\n",
       "      <th>1016429</th>\n",
       "      <td>-1.718061</td>\n",
       "      <td>-1.442631</td>\n",
       "    </tr>\n",
       "    <tr>\n",
       "      <th>1016606</th>\n",
       "      <td>-1.718061</td>\n",
       "      <td>-1.362851</td>\n",
       "    </tr>\n",
       "    <tr>\n",
       "      <th>1016588</th>\n",
       "      <td>-1.718061</td>\n",
       "      <td>-1.210782</td>\n",
       "    </tr>\n",
       "    <tr>\n",
       "      <th>1016624</th>\n",
       "      <td>-1.718061</td>\n",
       "      <td>-1.277862</td>\n",
       "    </tr>\n",
       "    <tr>\n",
       "      <th>...</th>\n",
       "      <td>...</td>\n",
       "      <td>...</td>\n",
       "    </tr>\n",
       "    <tr>\n",
       "      <th>305598</th>\n",
       "      <td>1.797891</td>\n",
       "      <td>0.331403</td>\n",
       "    </tr>\n",
       "    <tr>\n",
       "      <th>305599</th>\n",
       "      <td>1.797891</td>\n",
       "      <td>0.197243</td>\n",
       "    </tr>\n",
       "    <tr>\n",
       "      <th>305625</th>\n",
       "      <td>1.797891</td>\n",
       "      <td>-0.505792</td>\n",
       "    </tr>\n",
       "    <tr>\n",
       "      <th>305624</th>\n",
       "      <td>1.797891</td>\n",
       "      <td>-1.250509</td>\n",
       "    </tr>\n",
       "    <tr>\n",
       "      <th>305623</th>\n",
       "      <td>1.797891</td>\n",
       "      <td>0.666802</td>\n",
       "    </tr>\n",
       "  </tbody>\n",
       "</table>\n",
       "<p>591036 rows × 2 columns</p>\n",
       "</div>"
      ],
      "text/plain": [
       "             Date     Sales\n",
       "1016447 -1.718061 -1.202316\n",
       "1016429 -1.718061 -1.442631\n",
       "1016606 -1.718061 -1.362851\n",
       "1016588 -1.718061 -1.210782\n",
       "1016624 -1.718061 -1.277862\n",
       "...           ...       ...\n",
       "305598   1.797891  0.331403\n",
       "305599   1.797891  0.197243\n",
       "305625   1.797891 -0.505792\n",
       "305624   1.797891 -1.250509\n",
       "305623   1.797891  0.666802\n",
       "\n",
       "[591036 rows x 2 columns]"
      ]
     },
     "execution_count": 75,
     "metadata": {},
     "output_type": "execute_result"
    }
   ],
   "source": [
    "# Using StandardScaler to standardize the all columns\n",
    "scale_list = train.columns.to_list()\n",
    "manu.standardize_columns(scale_list)"
   ]
  },
  {
   "cell_type": "code",
   "execution_count": 53,
   "metadata": {},
   "outputs": [
    {
     "data": {
      "image/png": "[encoded data removed]",
      "text/plain": [
       "<Figure size 1400x700 with 1 Axes>"
      ]
     },
     "metadata": {},
     "output_type": "display_data"
    }
   ],
   "source": [
    "exploration.plot_hist(train, 'Sales', 'lime') "
   ]
  },
  {
   "cell_type": "code",
   "execution_count": 77,
   "metadata": {},
   "outputs": [],
   "source": [
    "train[\"Sales\"] = train[\"Sales\"].astype(\"float\")"
   ]
  },
  {
   "cell_type": "code",
   "execution_count": 76,
   "metadata": {},
   "outputs": [
    {
     "data": {
      "text/plain": [
       "0"
      ]
     },
     "execution_count": 76,
     "metadata": {},
     "output_type": "execute_result"
    }
   ],
   "source": [
    "train[\"Sales\"].isna().any().sum()"
   ]
  },
  {
   "cell_type": "code",
   "execution_count": 20,
   "metadata": {},
   "outputs": [],
   "source": [
    "SIZE = len(train[\"Sales\"])\n",
    "WINDOW_SIZE = 49\n",
    "BATCH_SIZE= SIZE-WINDOW_SIZE*2\n",
    "EPOCHS = 20\n",
    "\n",
    "t = ltsm_time(WINDOW_SIZE, BATCH_SIZE, train)"
   ]
  },
  {
   "cell_type": "code",
   "execution_count": 21,
   "metadata": {},
   "outputs": [
    {
     "ename": "ValueError",
     "evalue": "I/O operation on closed file",
     "output_type": "error",
     "traceback": [
      "\u001b[1;31m---------------------------------------------------------------------------\u001b[0m",
      "\u001b[1;31mValueError\u001b[0m                                Traceback (most recent call last)",
      "File \u001b[1;32m~\\AppData\\Local\\Programs\\Python\\Python38\\lib\\logging\\__init__.py:1088\u001b[0m, in \u001b[0;36mStreamHandler.emit\u001b[1;34m(self, record)\u001b[0m\n\u001b[0;32m   1087\u001b[0m \u001b[39m# issue 35046: merged two stream.writes into one.\u001b[39;00m\n\u001b[1;32m-> 1088\u001b[0m stream\u001b[39m.\u001b[39;49mwrite(msg \u001b[39m+\u001b[39;49m \u001b[39mself\u001b[39;49m\u001b[39m.\u001b[39;49mterminator)\n\u001b[0;32m   1089\u001b[0m \u001b[39mself\u001b[39m\u001b[39m.\u001b[39mflush()\n",
      "File \u001b[1;32mc:\\Users\\hp\\SalesPrediction\\.venv\\lib\\site-packages\\mlflow\\utils\\logging_utils.py:25\u001b[0m, in \u001b[0;36mMlflowLoggingStream.write\u001b[1;34m(self, text)\u001b[0m\n\u001b[0;32m     24\u001b[0m \u001b[39mif\u001b[39;00m \u001b[39mself\u001b[39m\u001b[39m.\u001b[39m_enabled:\n\u001b[1;32m---> 25\u001b[0m     sys\u001b[39m.\u001b[39;49mstderr\u001b[39m.\u001b[39;49mwrite(text)\n",
      "File \u001b[1;32mc:\\Users\\hp\\SalesPrediction\\.venv\\lib\\site-packages\\colorama\\ansitowin32.py:47\u001b[0m, in \u001b[0;36mStreamWrapper.write\u001b[1;34m(self, text)\u001b[0m\n\u001b[0;32m     46\u001b[0m \u001b[39mdef\u001b[39;00m \u001b[39mwrite\u001b[39m(\u001b[39mself\u001b[39m, text):\n\u001b[1;32m---> 47\u001b[0m     \u001b[39mself\u001b[39;49m\u001b[39m.\u001b[39;49m__convertor\u001b[39m.\u001b[39;49mwrite(text)\n",
      "File \u001b[1;32mc:\\Users\\hp\\SalesPrediction\\.venv\\lib\\site-packages\\colorama\\ansitowin32.py:170\u001b[0m, in \u001b[0;36mAnsiToWin32.write\u001b[1;34m(self, text)\u001b[0m\n\u001b[0;32m    169\u001b[0m \u001b[39mif\u001b[39;00m \u001b[39mself\u001b[39m\u001b[39m.\u001b[39mstrip \u001b[39mor\u001b[39;00m \u001b[39mself\u001b[39m\u001b[39m.\u001b[39mconvert:\n\u001b[1;32m--> 170\u001b[0m     \u001b[39mself\u001b[39;49m\u001b[39m.\u001b[39;49mwrite_and_convert(text)\n\u001b[0;32m    171\u001b[0m \u001b[39melse\u001b[39;00m:\n",
      "File \u001b[1;32mc:\\Users\\hp\\SalesPrediction\\.venv\\lib\\site-packages\\colorama\\ansitowin32.py:198\u001b[0m, in \u001b[0;36mAnsiToWin32.write_and_convert\u001b[1;34m(self, text)\u001b[0m\n\u001b[0;32m    197\u001b[0m     cursor \u001b[39m=\u001b[39m end\n\u001b[1;32m--> 198\u001b[0m \u001b[39mself\u001b[39;49m\u001b[39m.\u001b[39;49mwrite_plain_text(text, cursor, \u001b[39mlen\u001b[39;49m(text))\n",
      "File \u001b[1;32mc:\\Users\\hp\\SalesPrediction\\.venv\\lib\\site-packages\\colorama\\ansitowin32.py:203\u001b[0m, in \u001b[0;36mAnsiToWin32.write_plain_text\u001b[1;34m(self, text, start, end)\u001b[0m\n\u001b[0;32m    202\u001b[0m \u001b[39mif\u001b[39;00m start \u001b[39m<\u001b[39m end:\n\u001b[1;32m--> 203\u001b[0m     \u001b[39mself\u001b[39;49m\u001b[39m.\u001b[39;49mwrapped\u001b[39m.\u001b[39;49mwrite(text[start:end])\n\u001b[0;32m    204\u001b[0m     \u001b[39mself\u001b[39m\u001b[39m.\u001b[39mwrapped\u001b[39m.\u001b[39mflush()\n",
      "File \u001b[1;32mc:\\Users\\hp\\SalesPrediction\\.venv\\lib\\site-packages\\ipykernel\\iostream.py:539\u001b[0m, in \u001b[0;36mOutStream.write\u001b[1;34m(self, string)\u001b[0m\n\u001b[0;32m    538\u001b[0m \u001b[39mif\u001b[39;00m \u001b[39mself\u001b[39m\u001b[39m.\u001b[39mpub_thread \u001b[39mis\u001b[39;00m \u001b[39mNone\u001b[39;00m:\n\u001b[1;32m--> 539\u001b[0m     \u001b[39mraise\u001b[39;00m \u001b[39mValueError\u001b[39;00m(\u001b[39m\"\u001b[39m\u001b[39mI/O operation on closed file\u001b[39m\u001b[39m\"\u001b[39m)\n\u001b[0;32m    540\u001b[0m \u001b[39melse\u001b[39;00m:\n",
      "\u001b[1;31mValueError\u001b[0m: I/O operation on closed file",
      "\nDuring handling of the above exception, another exception occurred:\n",
      "\u001b[1;31mValueError\u001b[0m                                Traceback (most recent call last)",
      "Cell \u001b[1;32mIn [21], line 1\u001b[0m\n\u001b[1;32m----> 1\u001b[0m model1, his \u001b[38;5;241m=\u001b[39m \u001b[43mt\u001b[49m\u001b[38;5;241;43m.\u001b[39;49m\u001b[43mtrain\u001b[49m\u001b[43m(\u001b[49m\u001b[43mEPOCHS\u001b[49m\u001b[43m)\u001b[49m\n",
      "File \u001b[1;32mc:\\Users\\hp\\SalesPrediction\\notebooks\\../scripts\\lstm_model.py:82\u001b[0m, in \u001b[0;36mltsm_time.train\u001b[1;34m(self, EPOCHS, verbose)\u001b[0m\n\u001b[0;32m     80\u001b[0m \u001b[39mdef\u001b[39;00m \u001b[39mtrain\u001b[39m(\u001b[39mself\u001b[39m, EPOCHS, verbose\u001b[39m=\u001b[39m\u001b[39m1\u001b[39m):\n\u001b[1;32m---> 82\u001b[0m     mlflow\u001b[39m.\u001b[39;49mset_experiment(\u001b[39m'\u001b[39;49m\u001b[39mRossman-\u001b[39;49m\u001b[39m'\u001b[39;49m \u001b[39m+\u001b[39;49m \u001b[39m'\u001b[39;49m\u001b[39mLstm_model\u001b[39;49m\u001b[39m'\u001b[39;49m)\n\u001b[0;32m     84\u001b[0m     mlflow\u001b[39m.\u001b[39mtensorflow\u001b[39m.\u001b[39mautolog(every_n_iter\u001b[39m=\u001b[39m\u001b[39m2\u001b[39m, log_models\u001b[39m=\u001b[39m\u001b[39mTrue\u001b[39;00m)\n\u001b[0;32m     86\u001b[0m     mlflow\u001b[39m.\u001b[39mend_run()\n",
      "File \u001b[1;32mc:\\Users\\hp\\SalesPrediction\\.venv\\lib\\site-packages\\mlflow\\tracking\\fluent.py:116\u001b[0m, in \u001b[0;36mset_experiment\u001b[1;34m(experiment_name, experiment_id)\u001b[0m\n\u001b[0;32m    114\u001b[0m experiment \u001b[39m=\u001b[39m client\u001b[39m.\u001b[39mget_experiment_by_name(experiment_name)\n\u001b[0;32m    115\u001b[0m \u001b[39mif\u001b[39;00m \u001b[39mnot\u001b[39;00m experiment:\n\u001b[1;32m--> 116\u001b[0m     _logger\u001b[39m.\u001b[39;49minfo(\n\u001b[0;32m    117\u001b[0m         \u001b[39m\"\u001b[39;49m\u001b[39mExperiment with name \u001b[39;49m\u001b[39m'\u001b[39;49m\u001b[39m%s\u001b[39;49;00m\u001b[39m'\u001b[39;49m\u001b[39m does not exist. Creating a new experiment.\u001b[39;49m\u001b[39m\"\u001b[39;49m,\n\u001b[0;32m    118\u001b[0m         experiment_name,\n\u001b[0;32m    119\u001b[0m     )\n\u001b[0;32m    120\u001b[0m     \u001b[39m# NB: If two simultaneous threads or processes attempt to set the same experiment\u001b[39;00m\n\u001b[0;32m    121\u001b[0m     \u001b[39m# simultaneously, a race condition may be encountered here wherein experiment creation\u001b[39;00m\n\u001b[0;32m    122\u001b[0m     \u001b[39m# fails\u001b[39;00m\n\u001b[0;32m    123\u001b[0m     experiment_id \u001b[39m=\u001b[39m client\u001b[39m.\u001b[39mcreate_experiment(experiment_name)\n",
      "File \u001b[1;32m~\\AppData\\Local\\Programs\\Python\\Python38\\lib\\logging\\__init__.py:1446\u001b[0m, in \u001b[0;36mLogger.info\u001b[1;34m(self, msg, *args, **kwargs)\u001b[0m\n\u001b[0;32m   1437\u001b[0m \u001b[39m\"\"\"\u001b[39;00m\n\u001b[0;32m   1438\u001b[0m \u001b[39mLog 'msg % args' with severity 'INFO'.\u001b[39;00m\n\u001b[0;32m   1439\u001b[0m \n\u001b[1;32m   (...)\u001b[0m\n\u001b[0;32m   1443\u001b[0m \u001b[39mlogger.info(\"Houston, we have a %s\", \"interesting problem\", exc_info=1)\u001b[39;00m\n\u001b[0;32m   1444\u001b[0m \u001b[39m\"\"\"\u001b[39;00m\n\u001b[0;32m   1445\u001b[0m \u001b[39mif\u001b[39;00m \u001b[39mself\u001b[39m\u001b[39m.\u001b[39misEnabledFor(INFO):\n\u001b[1;32m-> 1446\u001b[0m     \u001b[39mself\u001b[39;49m\u001b[39m.\u001b[39;49m_log(INFO, msg, args, \u001b[39m*\u001b[39;49m\u001b[39m*\u001b[39;49mkwargs)\n",
      "File \u001b[1;32m~\\AppData\\Local\\Programs\\Python\\Python38\\lib\\logging\\__init__.py:1589\u001b[0m, in \u001b[0;36mLogger._log\u001b[1;34m(self, level, msg, args, exc_info, extra, stack_info, stacklevel)\u001b[0m\n\u001b[0;32m   1586\u001b[0m         exc_info \u001b[39m=\u001b[39m sys\u001b[39m.\u001b[39mexc_info()\n\u001b[0;32m   1587\u001b[0m record \u001b[39m=\u001b[39m \u001b[39mself\u001b[39m\u001b[39m.\u001b[39mmakeRecord(\u001b[39mself\u001b[39m\u001b[39m.\u001b[39mname, level, fn, lno, msg, args,\n\u001b[0;32m   1588\u001b[0m                          exc_info, func, extra, sinfo)\n\u001b[1;32m-> 1589\u001b[0m \u001b[39mself\u001b[39;49m\u001b[39m.\u001b[39;49mhandle(record)\n",
      "File \u001b[1;32m~\\AppData\\Local\\Programs\\Python\\Python38\\lib\\logging\\__init__.py:1599\u001b[0m, in \u001b[0;36mLogger.handle\u001b[1;34m(self, record)\u001b[0m\n\u001b[0;32m   1592\u001b[0m \u001b[39m\"\"\"\u001b[39;00m\n\u001b[0;32m   1593\u001b[0m \u001b[39mCall the handlers for the specified record.\u001b[39;00m\n\u001b[0;32m   1594\u001b[0m \n\u001b[0;32m   1595\u001b[0m \u001b[39mThis method is used for unpickled records received from a socket, as\u001b[39;00m\n\u001b[0;32m   1596\u001b[0m \u001b[39mwell as those created locally. Logger-level filtering is applied.\u001b[39;00m\n\u001b[0;32m   1597\u001b[0m \u001b[39m\"\"\"\u001b[39;00m\n\u001b[0;32m   1598\u001b[0m \u001b[39mif\u001b[39;00m (\u001b[39mnot\u001b[39;00m \u001b[39mself\u001b[39m\u001b[39m.\u001b[39mdisabled) \u001b[39mand\u001b[39;00m \u001b[39mself\u001b[39m\u001b[39m.\u001b[39mfilter(record):\n\u001b[1;32m-> 1599\u001b[0m     \u001b[39mself\u001b[39;49m\u001b[39m.\u001b[39;49mcallHandlers(record)\n",
      "File \u001b[1;32m~\\AppData\\Local\\Programs\\Python\\Python38\\lib\\logging\\__init__.py:1661\u001b[0m, in \u001b[0;36mLogger.callHandlers\u001b[1;34m(self, record)\u001b[0m\n\u001b[0;32m   1659\u001b[0m     found \u001b[39m=\u001b[39m found \u001b[39m+\u001b[39m \u001b[39m1\u001b[39m\n\u001b[0;32m   1660\u001b[0m     \u001b[39mif\u001b[39;00m record\u001b[39m.\u001b[39mlevelno \u001b[39m>\u001b[39m\u001b[39m=\u001b[39m hdlr\u001b[39m.\u001b[39mlevel:\n\u001b[1;32m-> 1661\u001b[0m         hdlr\u001b[39m.\u001b[39;49mhandle(record)\n\u001b[0;32m   1662\u001b[0m \u001b[39mif\u001b[39;00m \u001b[39mnot\u001b[39;00m c\u001b[39m.\u001b[39mpropagate:\n\u001b[0;32m   1663\u001b[0m     c \u001b[39m=\u001b[39m \u001b[39mNone\u001b[39;00m    \u001b[39m#break out\u001b[39;00m\n",
      "File \u001b[1;32m~\\AppData\\Local\\Programs\\Python\\Python38\\lib\\logging\\__init__.py:954\u001b[0m, in \u001b[0;36mHandler.handle\u001b[1;34m(self, record)\u001b[0m\n\u001b[0;32m    952\u001b[0m \u001b[39mself\u001b[39m\u001b[39m.\u001b[39macquire()\n\u001b[0;32m    953\u001b[0m \u001b[39mtry\u001b[39;00m:\n\u001b[1;32m--> 954\u001b[0m     \u001b[39mself\u001b[39;49m\u001b[39m.\u001b[39;49memit(record)\n\u001b[0;32m    955\u001b[0m \u001b[39mfinally\u001b[39;00m:\n\u001b[0;32m    956\u001b[0m     \u001b[39mself\u001b[39m\u001b[39m.\u001b[39mrelease()\n",
      "File \u001b[1;32m~\\AppData\\Local\\Programs\\Python\\Python38\\lib\\logging\\__init__.py:1093\u001b[0m, in \u001b[0;36mStreamHandler.emit\u001b[1;34m(self, record)\u001b[0m\n\u001b[0;32m   1091\u001b[0m     \u001b[39mraise\u001b[39;00m\n\u001b[0;32m   1092\u001b[0m \u001b[39mexcept\u001b[39;00m \u001b[39mException\u001b[39;00m:\n\u001b[1;32m-> 1093\u001b[0m     \u001b[39mself\u001b[39;49m\u001b[39m.\u001b[39;49mhandleError(record)\n",
      "File \u001b[1;32m~\\AppData\\Local\\Programs\\Python\\Python38\\lib\\logging\\__init__.py:1006\u001b[0m, in \u001b[0;36mHandler.handleError\u001b[1;34m(self, record)\u001b[0m\n\u001b[0;32m   1004\u001b[0m t, v, tb \u001b[39m=\u001b[39m sys\u001b[39m.\u001b[39mexc_info()\n\u001b[0;32m   1005\u001b[0m \u001b[39mtry\u001b[39;00m:\n\u001b[1;32m-> 1006\u001b[0m     sys\u001b[39m.\u001b[39;49mstderr\u001b[39m.\u001b[39;49mwrite(\u001b[39m'\u001b[39;49m\u001b[39m--- Logging error ---\u001b[39;49m\u001b[39m\\n\u001b[39;49;00m\u001b[39m'\u001b[39;49m)\n\u001b[0;32m   1007\u001b[0m     traceback\u001b[39m.\u001b[39mprint_exception(t, v, tb, \u001b[39mNone\u001b[39;00m, sys\u001b[39m.\u001b[39mstderr)\n\u001b[0;32m   1008\u001b[0m     sys\u001b[39m.\u001b[39mstderr\u001b[39m.\u001b[39mwrite(\u001b[39m'\u001b[39m\u001b[39mCall stack:\u001b[39m\u001b[39m\\n\u001b[39;00m\u001b[39m'\u001b[39m)\n",
      "File \u001b[1;32mc:\\Users\\hp\\SalesPrediction\\.venv\\lib\\site-packages\\colorama\\ansitowin32.py:47\u001b[0m, in \u001b[0;36mStreamWrapper.write\u001b[1;34m(self, text)\u001b[0m\n\u001b[0;32m     46\u001b[0m \u001b[39mdef\u001b[39;00m \u001b[39mwrite\u001b[39m(\u001b[39mself\u001b[39m, text):\n\u001b[1;32m---> 47\u001b[0m     \u001b[39mself\u001b[39;49m\u001b[39m.\u001b[39;49m__convertor\u001b[39m.\u001b[39;49mwrite(text)\n",
      "File \u001b[1;32mc:\\Users\\hp\\SalesPrediction\\.venv\\lib\\site-packages\\colorama\\ansitowin32.py:170\u001b[0m, in \u001b[0;36mAnsiToWin32.write\u001b[1;34m(self, text)\u001b[0m\n\u001b[0;32m    168\u001b[0m \u001b[39mdef\u001b[39;00m \u001b[39mwrite\u001b[39m(\u001b[39mself\u001b[39m, text):\n\u001b[0;32m    169\u001b[0m     \u001b[39mif\u001b[39;00m \u001b[39mself\u001b[39m\u001b[39m.\u001b[39mstrip \u001b[39mor\u001b[39;00m \u001b[39mself\u001b[39m\u001b[39m.\u001b[39mconvert:\n\u001b[1;32m--> 170\u001b[0m         \u001b[39mself\u001b[39;49m\u001b[39m.\u001b[39;49mwrite_and_convert(text)\n\u001b[0;32m    171\u001b[0m     \u001b[39melse\u001b[39;00m:\n\u001b[0;32m    172\u001b[0m         \u001b[39mself\u001b[39m\u001b[39m.\u001b[39mwrapped\u001b[39m.\u001b[39mwrite(text)\n",
      "File \u001b[1;32mc:\\Users\\hp\\SalesPrediction\\.venv\\lib\\site-packages\\colorama\\ansitowin32.py:198\u001b[0m, in \u001b[0;36mAnsiToWin32.write_and_convert\u001b[1;34m(self, text)\u001b[0m\n\u001b[0;32m    196\u001b[0m     \u001b[39mself\u001b[39m\u001b[39m.\u001b[39mconvert_ansi(\u001b[39m*\u001b[39mmatch\u001b[39m.\u001b[39mgroups())\n\u001b[0;32m    197\u001b[0m     cursor \u001b[39m=\u001b[39m end\n\u001b[1;32m--> 198\u001b[0m \u001b[39mself\u001b[39;49m\u001b[39m.\u001b[39;49mwrite_plain_text(text, cursor, \u001b[39mlen\u001b[39;49m(text))\n",
      "File \u001b[1;32mc:\\Users\\hp\\SalesPrediction\\.venv\\lib\\site-packages\\colorama\\ansitowin32.py:203\u001b[0m, in \u001b[0;36mAnsiToWin32.write_plain_text\u001b[1;34m(self, text, start, end)\u001b[0m\n\u001b[0;32m    201\u001b[0m \u001b[39mdef\u001b[39;00m \u001b[39mwrite_plain_text\u001b[39m(\u001b[39mself\u001b[39m, text, start, end):\n\u001b[0;32m    202\u001b[0m     \u001b[39mif\u001b[39;00m start \u001b[39m<\u001b[39m end:\n\u001b[1;32m--> 203\u001b[0m         \u001b[39mself\u001b[39;49m\u001b[39m.\u001b[39;49mwrapped\u001b[39m.\u001b[39;49mwrite(text[start:end])\n\u001b[0;32m    204\u001b[0m         \u001b[39mself\u001b[39m\u001b[39m.\u001b[39mwrapped\u001b[39m.\u001b[39mflush()\n",
      "File \u001b[1;32mc:\\Users\\hp\\SalesPrediction\\.venv\\lib\\site-packages\\ipykernel\\iostream.py:539\u001b[0m, in \u001b[0;36mOutStream.write\u001b[1;34m(self, string)\u001b[0m\n\u001b[0;32m    536\u001b[0m             \u001b[39mprint\u001b[39m(\u001b[39mf\u001b[39m\u001b[39m\"\u001b[39m\u001b[39mWrite failed: \u001b[39m\u001b[39m{\u001b[39;00me\u001b[39m}\u001b[39;00m\u001b[39m\"\u001b[39m, file\u001b[39m=\u001b[39msys\u001b[39m.\u001b[39m__stderr__)\n\u001b[0;32m    538\u001b[0m \u001b[39mif\u001b[39;00m \u001b[39mself\u001b[39m\u001b[39m.\u001b[39mpub_thread \u001b[39mis\u001b[39;00m \u001b[39mNone\u001b[39;00m:\n\u001b[1;32m--> 539\u001b[0m     \u001b[39mraise\u001b[39;00m \u001b[39mValueError\u001b[39;00m(\u001b[39m\"\u001b[39m\u001b[39mI/O operation on closed file\u001b[39m\u001b[39m\"\u001b[39m)\n\u001b[0;32m    540\u001b[0m \u001b[39melse\u001b[39;00m:\n\u001b[0;32m    542\u001b[0m     is_child \u001b[39m=\u001b[39m \u001b[39mnot\u001b[39;00m \u001b[39mself\u001b[39m\u001b[39m.\u001b[39m_is_master_process()\n",
      "\u001b[1;31mValueError\u001b[0m: I/O operation on closed file"
     ]
    }
   ],
   "source": [
    "model1, his = t.train(EPOCHS)"
   ]
  },
  {
   "cell_type": "code",
   "execution_count": null,
   "metadata": {},
   "outputs": [],
   "source": []
  },
  {
   "cell_type": "code",
   "execution_count": null,
   "metadata": {},
   "outputs": [],
   "source": []
  },
  {
   "cell_type": "code",
   "execution_count": null,
   "metadata": {},
   "outputs": [],
   "source": []
  }
 ],
 "metadata": {
  "kernelspec": {
   "display_name": "Python 3.8.10 ('.venv': venv)",
   "language": "python",
   "name": "python3"
  },
  "language_info": {
   "codemirror_mode": {
    "name": "ipython",
    "version": 3
   },
   "file_extension": ".py",
   "mimetype": "text/x-python",
   "name": "python",
   "nbconvert_exporter": "python",
   "pygments_lexer": "ipython3",
   "version": "3.8.10"
  },
  "orig_nbformat": 4,
  "vscode": {
   "interpreter": {
    "hash": "c6bddc36007d9749974d297e99118a0572140c283d646fa0e52ab6a0d69316c0"
   }
  }
 },
 "nbformat": 4,
 "nbformat_minor": 2
}
