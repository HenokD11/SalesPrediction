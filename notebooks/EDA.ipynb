{
 "cells": [
  {
   "cell_type": "markdown",
   "metadata": {},
   "source": [
    "## EDA"
   ]
  },
  {
   "cell_type": "code",
   "execution_count": 1,
   "metadata": {},
   "outputs": [],
   "source": [
    "#importing the libraries\n",
    "import numpy as np\n",
    "import pandas as pd\n",
    "from scipy import stats\n",
    "import datetime \n",
    "import plotly.express as px\n",
    "import seaborn as sns\n",
    "sns.set()\n",
    "import matplotlib.pyplot as plt\n",
    "%matplotlib inline\n",
    "from sklearn import preprocessing\n",
    "import plotly.graph_objects as go\n",
    "import warnings\n",
    "warnings.filterwarnings(\"ignore\")"
   ]
  },
  {
   "cell_type": "code",
   "execution_count": 5,
   "metadata": {},
   "outputs": [
    {
     "ename": "FileNotFoundError",
     "evalue": "[Errno 2] No such file or directory: 'c:\\\\Users\\\\hp\\\\SalesPrediction\\\\notebooks\\\\logs\\\\data_preprocessing.log'",
     "output_type": "error",
     "traceback": [
      "\u001b[1;31m---------------------------------------------------------------------------\u001b[0m",
      "\u001b[1;31mFileNotFoundError\u001b[0m                         Traceback (most recent call last)",
      "Cell \u001b[1;32mIn [5], line 5\u001b[0m\n\u001b[0;32m      3\u001b[0m sys\u001b[38;5;241m.\u001b[39mpath\u001b[38;5;241m.\u001b[39mappend(os\u001b[38;5;241m.\u001b[39mpath\u001b[38;5;241m.\u001b[39mabspath(os\u001b[38;5;241m.\u001b[39mpath\u001b[38;5;241m.\u001b[39mjoin(\u001b[38;5;124m'\u001b[39m\u001b[38;5;124m../scripts\u001b[39m\u001b[38;5;124m'\u001b[39m)))\n\u001b[0;32m      4\u001b[0m \u001b[38;5;66;03m#from data_preprocessing import data_preprocessing_script\u001b[39;00m\n\u001b[1;32m----> 5\u001b[0m \u001b[38;5;28;01mfrom\u001b[39;00m \u001b[38;5;21;01mscripts\u001b[39;00m \u001b[38;5;28;01mimport\u001b[39;00m data_preprocessing\n",
      "File \u001b[1;32mc:\\Users\\hp\\SalesPrediction\\scripts\\data_preprocessing.py:13\u001b[0m\n\u001b[0;32m      9\u001b[0m sys\u001b[39m.\u001b[39mpath\u001b[39m.\u001b[39minsert(\u001b[39m0\u001b[39m, \u001b[39m'\u001b[39m\u001b[39m../logs/\u001b[39m\u001b[39m'\u001b[39m)\n\u001b[0;32m     11\u001b[0m \u001b[39mfrom\u001b[39;00m \u001b[39mlog_helper\u001b[39;00m \u001b[39mimport\u001b[39;00m App_Logger\n\u001b[1;32m---> 13\u001b[0m app_logger \u001b[39m=\u001b[39m App_Logger(\u001b[39m\"\u001b[39;49m\u001b[39mlogs/data_preprocessing.log\u001b[39;49m\u001b[39m\"\u001b[39;49m)\u001b[39m.\u001b[39mget_app_logger()\n\u001b[0;32m     16\u001b[0m \u001b[39mclass\u001b[39;00m \u001b[39mdata_preProcessing_script\u001b[39;00m:\n\u001b[0;32m     18\u001b[0m     \u001b[39mdef\u001b[39;00m \u001b[39m__init__\u001b[39m(\u001b[39mself\u001b[39m, df: pd\u001b[39m.\u001b[39mDataFrame) \u001b[39m-\u001b[39m\u001b[39m>\u001b[39m \u001b[39mNone\u001b[39;00m:\n",
      "File \u001b[1;32mc:\\Users\\hp\\SalesPrediction\\notebooks\\../scripts\\log_helper.py:14\u001b[0m, in \u001b[0;36mApp_Logger.__init__\u001b[1;34m(self, file_name, basic_level)\u001b[0m\n\u001b[0;32m     11\u001b[0m logger\u001b[39m.\u001b[39msetLevel(basic_level)\n\u001b[0;32m     13\u001b[0m \u001b[39m# define file handler and set formatter\u001b[39;00m\n\u001b[1;32m---> 14\u001b[0m file_handler \u001b[39m=\u001b[39m logging\u001b[39m.\u001b[39;49mFileHandler(file_name)\n\u001b[0;32m     15\u001b[0m formatter \u001b[39m=\u001b[39m logging\u001b[39m.\u001b[39mFormatter(\n\u001b[0;32m     16\u001b[0m     \u001b[39m'\u001b[39m\u001b[39m%(asctime)s\u001b[39;00m\u001b[39m : \u001b[39m\u001b[39m%(levelname)s\u001b[39;00m\u001b[39m : \u001b[39m\u001b[39m%(name)s\u001b[39;00m\u001b[39m : \u001b[39m\u001b[39m%(message)s\u001b[39;00m\u001b[39m'\u001b[39m)\n\u001b[0;32m     18\u001b[0m file_handler\u001b[39m.\u001b[39msetFormatter(formatter)\n",
      "File \u001b[1;32m~\\AppData\\Local\\Programs\\Python\\Python38\\lib\\logging\\__init__.py:1147\u001b[0m, in \u001b[0;36mFileHandler.__init__\u001b[1;34m(self, filename, mode, encoding, delay)\u001b[0m\n\u001b[0;32m   1145\u001b[0m     \u001b[39mself\u001b[39m\u001b[39m.\u001b[39mstream \u001b[39m=\u001b[39m \u001b[39mNone\u001b[39;00m\n\u001b[0;32m   1146\u001b[0m \u001b[39melse\u001b[39;00m:\n\u001b[1;32m-> 1147\u001b[0m     StreamHandler\u001b[39m.\u001b[39m\u001b[39m__init__\u001b[39m(\u001b[39mself\u001b[39m, \u001b[39mself\u001b[39;49m\u001b[39m.\u001b[39;49m_open())\n",
      "File \u001b[1;32m~\\AppData\\Local\\Programs\\Python\\Python38\\lib\\logging\\__init__.py:1176\u001b[0m, in \u001b[0;36mFileHandler._open\u001b[1;34m(self)\u001b[0m\n\u001b[0;32m   1171\u001b[0m \u001b[39mdef\u001b[39;00m \u001b[39m_open\u001b[39m(\u001b[39mself\u001b[39m):\n\u001b[0;32m   1172\u001b[0m     \u001b[39m\"\"\"\u001b[39;00m\n\u001b[0;32m   1173\u001b[0m \u001b[39m    Open the current base file with the (original) mode and encoding.\u001b[39;00m\n\u001b[0;32m   1174\u001b[0m \u001b[39m    Return the resulting stream.\u001b[39;00m\n\u001b[0;32m   1175\u001b[0m \u001b[39m    \"\"\"\u001b[39;00m\n\u001b[1;32m-> 1176\u001b[0m     \u001b[39mreturn\u001b[39;00m \u001b[39mopen\u001b[39;49m(\u001b[39mself\u001b[39;49m\u001b[39m.\u001b[39;49mbaseFilename, \u001b[39mself\u001b[39;49m\u001b[39m.\u001b[39;49mmode, encoding\u001b[39m=\u001b[39;49m\u001b[39mself\u001b[39;49m\u001b[39m.\u001b[39;49mencoding)\n",
      "\u001b[1;31mFileNotFoundError\u001b[0m: [Errno 2] No such file or directory: 'c:\\\\Users\\\\hp\\\\SalesPrediction\\\\notebooks\\\\logs\\\\data_preprocessing.log'"
     ]
    }
   ],
   "source": [
    "#Adding scripts path\n",
    "import sys, os\n",
    "sys.path.append(os.path.abspath(os.path.join('../scripts')))\n",
    "from data_preprocessing import data_preprocessing_script\n",
    "from cleaner import DataCleaner"
   ]
  },
  {
   "cell_type": "code",
   "execution_count": null,
   "metadata": {},
   "outputs": [],
   "source": []
  },
  {
   "cell_type": "code",
   "execution_count": null,
   "metadata": {},
   "outputs": [],
   "source": []
  }
 ],
 "metadata": {
  "kernelspec": {
   "display_name": "Python 3.8.10 ('.venv': venv)",
   "language": "python",
   "name": "python3"
  },
  "language_info": {
   "codemirror_mode": {
    "name": "ipython",
    "version": 3
   },
   "file_extension": ".py",
   "mimetype": "text/x-python",
   "name": "python",
   "nbconvert_exporter": "python",
   "pygments_lexer": "ipython3",
   "version": "3.8.10"
  },
  "orig_nbformat": 4,
  "vscode": {
   "interpreter": {
    "hash": "c6bddc36007d9749974d297e99118a0572140c283d646fa0e52ab6a0d69316c0"
   }
  }
 },
 "nbformat": 4,
 "nbformat_minor": 2
}
